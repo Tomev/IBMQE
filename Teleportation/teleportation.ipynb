{
 "cells": [
  {
   "cell_type": "markdown",
   "metadata": {},
   "source": [
    "# Quantum Teleportation\n",
    "### Prepare circuit"
   ]
  },
  {
   "cell_type": "code",
   "execution_count": 1,
   "metadata": {},
   "outputs": [],
   "source": [
    "import sys\n",
    "sys.path.append('../')\n",
    "from methods import run_main_loop\n",
    "import qiskit\n",
    "import numpy as np"
   ]
  },
  {
   "cell_type": "code",
   "execution_count": 2,
   "metadata": {},
   "outputs": [],
   "source": [
    "# Create a Quantum Register called \"qr\" with 2 qubits.\n",
    "qr = qiskit.QuantumRegister(3)\n",
    "# Create a Classical Register called \"cr\" with 2 bits.\n",
    "cr = qiskit.ClassicalRegister(3)"
   ]
  },
  {
   "cell_type": "code",
   "execution_count": 3,
   "metadata": {},
   "outputs": [],
   "source": [
    "#prepare a state rotated by theta on the qubit 0\n",
    "def prepare_state(theta):\n",
    "    circuit=qiskit.QuantumCircuit(qr, cr)\n",
    "    circuit.rx(theta, qr[0])\n",
    "    return(circuit)"
   ]
  },
  {
   "cell_type": "code",
   "execution_count": 4,
   "metadata": {},
   "outputs": [
    {
     "data": {
      "text/plain": [
       "<qiskit._measure.Measure at 0x1fc75b12470>"
      ]
     },
     "execution_count": 4,
     "metadata": {},
     "output_type": "execute_result"
    }
   ],
   "source": [
    "#a circuit to teleport state from qubit 0 to qubit 2\n",
    "\n",
    "teleport=qiskit.QuantumCircuit(qr, cr)\n",
    "\n",
    "#prepare bell state on qubits 1 and 2\n",
    "teleport.cx(qr[1], qr[2])\n",
    "teleport.h(qr[1])\n",
    "\n",
    "#measure qubits 0 and 1\n",
    "teleport.measure(qr[0], cr[0])\n",
    "teleport.measure(qr[1], cr[1])"
   ]
  },
  {
   "cell_type": "code",
   "execution_count": 5,
   "metadata": {},
   "outputs": [],
   "source": [
    "#a circuit to measure i-th qubit to i-th bit\n",
    "def measure(i):\n",
    "    circuit=qiskit.QuantumCircuit(qr, cr)\n",
    "    circuit.measure(qr[i],cr[i])\n",
    "    return(circuit)"
   ]
  },
  {
   "cell_type": "code",
   "execution_count": 6,
   "metadata": {},
   "outputs": [],
   "source": [
    "circuits=[]\n",
    "for theta in np.linspace(0,np.pi,10):\n",
    "    qc_test=prepare_state(theta)+measure(0)\n",
    "    circuits.append(qc_test)\n",
    "    qc_teleport=prepare_state(theta)+teleport+measure(2)\n",
    "    circuits.append(qc_teleport)"
   ]
  },
  {
   "cell_type": "markdown",
   "metadata": {},
   "source": [
    "### Execute"
   ]
  },
  {
   "cell_type": "code",
   "execution_count": 7,
   "metadata": {},
   "outputs": [],
   "source": [
    "sim=qiskit.execute(circuits,'local_qasm_simulator')\n",
    "counts=[sim.result().get_counts(c) for c in circuits]"
   ]
  },
  {
   "cell_type": "code",
   "execution_count": 136,
   "metadata": {},
   "outputs": [
    {
     "name": "stdout",
     "output_type": "stream",
     "text": [
      "Iteration number:  0\n",
      "Getting available backends...\n",
      "ibmqx2 : Currently not available.\n",
      "Refreshing available backends list...\n",
      "Trying another backend:  ibmqx4\n",
      "ibmqx4 : Currently not available.\n",
      "Refreshing available backends list...\n",
      "Trying another backend:  ibmqx5\n",
      "Executing quantum program on backend: ibmqx5\n",
      "Program send for execution to  ibmqx5 .\n",
      "Iteration number:  1\n",
      "Getting available backends...\n",
      "ibmqx2 : Currently not available.\n",
      "Refreshing available backends list...\n"
     ]
    },
    {
     "name": "stderr",
     "output_type": "stream",
     "text": [
      "Got a 400 code response to https://quantumexperience.ng.bluemix.net/api/Jobs?access_token=sNNLHrfX1u1S8v9w4yw1YBDPpHHIXC9EEZnHI7oJeCWfJDPOGUGI8GYnzGbtEAOM: {\"error\":{\"status\":400,\"message\":\"Generic error\",\"code\":\"GENERIC_ERROR\"}}\n"
     ]
    },
    {
     "name": "stdout",
     "output_type": "stream",
     "text": [
      "Trying another backend:  ibmqx4\n",
      "ibmqx4 : Currently not available.\n",
      "Refreshing available backends list...\n"
     ]
    },
    {
     "name": "stderr",
     "output_type": "stream",
     "text": [
      "Got a 400 code response to https://quantumexperience.ng.bluemix.net/api/Jobs?access_token=sNNLHrfX1u1S8v9w4yw1YBDPpHHIXC9EEZnHI7oJeCWfJDPOGUGI8GYnzGbtEAOM: {\"error\":{\"status\":400,\"message\":\"Generic error\",\"code\":\"GENERIC_ERROR\"}}\n"
     ]
    },
    {
     "name": "stdout",
     "output_type": "stream",
     "text": [
      "Trying another backend:  ibmqx5\n",
      "Executing quantum program on backend: ibmqx5\n"
     ]
    },
    {
     "name": "stderr",
     "output_type": "stream",
     "text": [
      "Got a 400 code response to https://quantumexperience.ng.bluemix.net/api/Jobs?access_token=sNNLHrfX1u1S8v9w4yw1YBDPpHHIXC9EEZnHI7oJeCWfJDPOGUGI8GYnzGbtEAOM: {\"error\":{\"status\":400,\"message\":\"Generic error\",\"code\":\"GENERIC_ERROR\"}}\n"
     ]
    },
    {
     "name": "stdout",
     "output_type": "stream",
     "text": [
      "Program send for execution to  ibmqx5 .\n",
      "Iteration number:  2\n",
      "Getting available backends...\n"
     ]
    },
    {
     "name": "stderr",
     "output_type": "stream",
     "text": [
      "Got a 400 code response to https://quantumexperience.ng.bluemix.net/api/Jobs?access_token=sNNLHrfX1u1S8v9w4yw1YBDPpHHIXC9EEZnHI7oJeCWfJDPOGUGI8GYnzGbtEAOM: {\"error\":{\"status\":400,\"message\":\"Generic error\",\"code\":\"GENERIC_ERROR\"}}\n"
     ]
    },
    {
     "name": "stdout",
     "output_type": "stream",
     "text": [
      "ibmqx2 : Currently not available.\n",
      "Refreshing available backends list...\n"
     ]
    },
    {
     "name": "stderr",
     "output_type": "stream",
     "text": [
      "Got a 400 code response to https://quantumexperience.ng.bluemix.net/api/Jobs?access_token=sNNLHrfX1u1S8v9w4yw1YBDPpHHIXC9EEZnHI7oJeCWfJDPOGUGI8GYnzGbtEAOM: {\"error\":{\"status\":400,\"message\":\"Generic error\",\"code\":\"GENERIC_ERROR\"}}\n"
     ]
    },
    {
     "name": "stdout",
     "output_type": "stream",
     "text": [
      "Trying another backend:  ibmqx4\n",
      "ibmqx4 : Currently not available.\n",
      "Refreshing available backends list...\n"
     ]
    },
    {
     "name": "stderr",
     "output_type": "stream",
     "text": [
      "Got a 400 code response to https://quantumexperience.ng.bluemix.net/api/Jobs?access_token=sNNLHrfX1u1S8v9w4yw1YBDPpHHIXC9EEZnHI7oJeCWfJDPOGUGI8GYnzGbtEAOM: {\"error\":{\"status\":400,\"message\":\"Generic error\",\"code\":\"GENERIC_ERROR\"}}\n",
      "Got a 400 code response to https://quantumexperience.ng.bluemix.net/api/Jobs?access_token=sNNLHrfX1u1S8v9w4yw1YBDPpHHIXC9EEZnHI7oJeCWfJDPOGUGI8GYnzGbtEAOM: {\"error\":{\"status\":400,\"message\":\"Generic error\",\"code\":\"GENERIC_ERROR\"}}\n"
     ]
    },
    {
     "name": "stdout",
     "output_type": "stream",
     "text": [
      "Trying another backend:  ibmqx5\n",
      "Executing quantum program on backend: ibmqx5\n"
     ]
    },
    {
     "name": "stderr",
     "output_type": "stream",
     "text": [
      "Got a 400 code response to https://quantumexperience.ng.bluemix.net/api/Jobs?access_token=sNNLHrfX1u1S8v9w4yw1YBDPpHHIXC9EEZnHI7oJeCWfJDPOGUGI8GYnzGbtEAOM: {\"error\":{\"status\":400,\"message\":\"Generic error\",\"code\":\"GENERIC_ERROR\"}}\n"
     ]
    },
    {
     "name": "stdout",
     "output_type": "stream",
     "text": [
      "Program send for execution to  ibmqx5 .\n",
      "Iteration number:  3\n",
      "Getting available backends...\n"
     ]
    },
    {
     "name": "stderr",
     "output_type": "stream",
     "text": [
      "Got a 400 code response to https://quantumexperience.ng.bluemix.net/api/Jobs?access_token=sNNLHrfX1u1S8v9w4yw1YBDPpHHIXC9EEZnHI7oJeCWfJDPOGUGI8GYnzGbtEAOM: {\"error\":{\"status\":400,\"message\":\"Generic error\",\"code\":\"GENERIC_ERROR\"}}\n"
     ]
    },
    {
     "name": "stdout",
     "output_type": "stream",
     "text": [
      "ibmqx2 : Currently not available.\n",
      "Refreshing available backends list...\n",
      "Trying another backend:  ibmqx4\n",
      "ibmqx4 : Currently not available.\n",
      "Refreshing available backends list...\n"
     ]
    },
    {
     "name": "stderr",
     "output_type": "stream",
     "text": [
      "Got a 400 code response to https://quantumexperience.ng.bluemix.net/api/Jobs?access_token=sNNLHrfX1u1S8v9w4yw1YBDPpHHIXC9EEZnHI7oJeCWfJDPOGUGI8GYnzGbtEAOM: {\"error\":{\"status\":400,\"message\":\"Generic error\",\"code\":\"GENERIC_ERROR\"}}\n",
      "Got a 400 code response to https://quantumexperience.ng.bluemix.net/api/Jobs?access_token=sNNLHrfX1u1S8v9w4yw1YBDPpHHIXC9EEZnHI7oJeCWfJDPOGUGI8GYnzGbtEAOM: {\"error\":{\"status\":400,\"message\":\"Generic error\",\"code\":\"GENERIC_ERROR\"}}\n"
     ]
    },
    {
     "name": "stdout",
     "output_type": "stream",
     "text": [
      "Trying another backend:  ibmqx5\n",
      "Executing quantum program on backend: ibmqx5\n"
     ]
    },
    {
     "name": "stderr",
     "output_type": "stream",
     "text": [
      "Got a 400 code response to https://quantumexperience.ng.bluemix.net/api/Jobs?access_token=sNNLHrfX1u1S8v9w4yw1YBDPpHHIXC9EEZnHI7oJeCWfJDPOGUGI8GYnzGbtEAOM: {\"error\":{\"status\":400,\"message\":\"Generic error\",\"code\":\"GENERIC_ERROR\"}}\n"
     ]
    },
    {
     "name": "stdout",
     "output_type": "stream",
     "text": [
      "Program send for execution to  ibmqx5 .\n",
      "Iteration number:  4\n",
      "Getting available backends...\n",
      "ibmqx2 : Currently not available.\n",
      "Refreshing available backends list...\n"
     ]
    },
    {
     "name": "stderr",
     "output_type": "stream",
     "text": [
      "Got a 400 code response to https://quantumexperience.ng.bluemix.net/api/Jobs?access_token=sNNLHrfX1u1S8v9w4yw1YBDPpHHIXC9EEZnHI7oJeCWfJDPOGUGI8GYnzGbtEAOM: {\"error\":{\"status\":400,\"message\":\"Generic error\",\"code\":\"GENERIC_ERROR\"}}\n"
     ]
    },
    {
     "name": "stdout",
     "output_type": "stream",
     "text": [
      "Trying another backend:  ibmqx4\n",
      "ibmqx4 : Currently not available.\n",
      "Refreshing available backends list...\n"
     ]
    },
    {
     "name": "stderr",
     "output_type": "stream",
     "text": [
      "Got a 400 code response to https://quantumexperience.ng.bluemix.net/api/Jobs?access_token=sNNLHrfX1u1S8v9w4yw1YBDPpHHIXC9EEZnHI7oJeCWfJDPOGUGI8GYnzGbtEAOM: {\"error\":{\"status\":400,\"message\":\"Generic error\",\"code\":\"GENERIC_ERROR\"}}\n"
     ]
    },
    {
     "name": "stdout",
     "output_type": "stream",
     "text": [
      "Trying another backend:  ibmqx5\n",
      "Executing quantum program on backend: ibmqx5\n"
     ]
    },
    {
     "name": "stderr",
     "output_type": "stream",
     "text": [
      "Got a 400 code response to https://quantumexperience.ng.bluemix.net/api/Jobs?access_token=sNNLHrfX1u1S8v9w4yw1YBDPpHHIXC9EEZnHI7oJeCWfJDPOGUGI8GYnzGbtEAOM: {\"error\":{\"status\":400,\"message\":\"Generic error\",\"code\":\"GENERIC_ERROR\"}}\n"
     ]
    },
    {
     "name": "stdout",
     "output_type": "stream",
     "text": [
      "Program send for execution to  ibmqx5 .\n",
      "Iteration number:  5\n",
      "Getting available backends...\n"
     ]
    },
    {
     "name": "stderr",
     "output_type": "stream",
     "text": [
      "Got a 400 code response to https://quantumexperience.ng.bluemix.net/api/Jobs?access_token=sNNLHrfX1u1S8v9w4yw1YBDPpHHIXC9EEZnHI7oJeCWfJDPOGUGI8GYnzGbtEAOM: {\"error\":{\"status\":400,\"message\":\"Generic error\",\"code\":\"GENERIC_ERROR\"}}\n",
      "Got a 400 code response to https://quantumexperience.ng.bluemix.net/api/Jobs?access_token=sNNLHrfX1u1S8v9w4yw1YBDPpHHIXC9EEZnHI7oJeCWfJDPOGUGI8GYnzGbtEAOM: {\"error\":{\"status\":400,\"message\":\"Generic error\",\"code\":\"GENERIC_ERROR\"}}\n"
     ]
    },
    {
     "name": "stdout",
     "output_type": "stream",
     "text": [
      "ibmqx2 : Currently not available.\n",
      "Refreshing available backends list...\n"
     ]
    },
    {
     "name": "stderr",
     "output_type": "stream",
     "text": [
      "Got a 400 code response to https://quantumexperience.ng.bluemix.net/api/Jobs?access_token=sNNLHrfX1u1S8v9w4yw1YBDPpHHIXC9EEZnHI7oJeCWfJDPOGUGI8GYnzGbtEAOM: {\"error\":{\"status\":400,\"message\":\"Generic error\",\"code\":\"GENERIC_ERROR\"}}\n"
     ]
    },
    {
     "name": "stdout",
     "output_type": "stream",
     "text": [
      "Trying another backend:  ibmqx4\n",
      "ibmqx4 : Currently not available.\n",
      "Refreshing available backends list...\n"
     ]
    },
    {
     "name": "stderr",
     "output_type": "stream",
     "text": [
      "Got a 400 code response to https://quantumexperience.ng.bluemix.net/api/Jobs?access_token=sNNLHrfX1u1S8v9w4yw1YBDPpHHIXC9EEZnHI7oJeCWfJDPOGUGI8GYnzGbtEAOM: {\"error\":{\"status\":400,\"message\":\"Generic error\",\"code\":\"GENERIC_ERROR\"}}\n"
     ]
    },
    {
     "name": "stdout",
     "output_type": "stream",
     "text": [
      "Trying another backend:  ibmqx5\n",
      "Executing quantum program on backend: ibmqx5\n"
     ]
    },
    {
     "name": "stderr",
     "output_type": "stream",
     "text": [
      "Got a 400 code response to https://quantumexperience.ng.bluemix.net/api/Jobs?access_token=sNNLHrfX1u1S8v9w4yw1YBDPpHHIXC9EEZnHI7oJeCWfJDPOGUGI8GYnzGbtEAOM: {\"error\":{\"status\":400,\"message\":\"Generic error\",\"code\":\"GENERIC_ERROR\"}}\n"
     ]
    },
    {
     "name": "stdout",
     "output_type": "stream",
     "text": [
      "Program send for execution to  ibmqx5 .\n",
      "Iteration number:  6\n",
      "Getting available backends...\n"
     ]
    },
    {
     "name": "stderr",
     "output_type": "stream",
     "text": [
      "Got a 400 code response to https://quantumexperience.ng.bluemix.net/api/Jobs?access_token=sNNLHrfX1u1S8v9w4yw1YBDPpHHIXC9EEZnHI7oJeCWfJDPOGUGI8GYnzGbtEAOM: {\"error\":{\"status\":400,\"message\":\"Generic error\",\"code\":\"GENERIC_ERROR\"}}\n"
     ]
    },
    {
     "name": "stdout",
     "output_type": "stream",
     "text": [
      "ibmqx2 : Currently not available.\n",
      "Refreshing available backends list...\n"
     ]
    },
    {
     "name": "stderr",
     "output_type": "stream",
     "text": [
      "Got a 400 code response to https://quantumexperience.ng.bluemix.net/api/Jobs?access_token=sNNLHrfX1u1S8v9w4yw1YBDPpHHIXC9EEZnHI7oJeCWfJDPOGUGI8GYnzGbtEAOM: {\"error\":{\"status\":400,\"message\":\"Generic error\",\"code\":\"GENERIC_ERROR\"}}\n"
     ]
    },
    {
     "name": "stdout",
     "output_type": "stream",
     "text": [
      "Trying another backend:  ibmqx4\n",
      "ibmqx4 : Currently not available.\n",
      "Refreshing available backends list...\n",
      "Trying another backend:  ibmqx5\n",
      "Executing quantum program on backend: ibmqx5\n",
      "Program send for execution to  ibmqx5 .\n",
      "Iteration number:  7\n",
      "Getting available backends...\n"
     ]
    },
    {
     "name": "stderr",
     "output_type": "stream",
     "text": [
      "Got a 400 code response to https://quantumexperience.ng.bluemix.net/api/Jobs?access_token=sNNLHrfX1u1S8v9w4yw1YBDPpHHIXC9EEZnHI7oJeCWfJDPOGUGI8GYnzGbtEAOM: {\"error\":{\"status\":400,\"message\":\"Generic error\",\"code\":\"GENERIC_ERROR\"}}\n"
     ]
    },
    {
     "name": "stdout",
     "output_type": "stream",
     "text": [
      "ibmqx2 : Currently not available.\n",
      "Refreshing available backends list...\n"
     ]
    },
    {
     "name": "stderr",
     "output_type": "stream",
     "text": [
      "Got a 400 code response to https://quantumexperience.ng.bluemix.net/api/Jobs?access_token=sNNLHrfX1u1S8v9w4yw1YBDPpHHIXC9EEZnHI7oJeCWfJDPOGUGI8GYnzGbtEAOM: {\"error\":{\"status\":400,\"message\":\"Generic error\",\"code\":\"GENERIC_ERROR\"}}\n",
      "Got a 400 code response to https://quantumexperience.ng.bluemix.net/api/Jobs?access_token=sNNLHrfX1u1S8v9w4yw1YBDPpHHIXC9EEZnHI7oJeCWfJDPOGUGI8GYnzGbtEAOM: {\"error\":{\"status\":400,\"message\":\"Generic error\",\"code\":\"GENERIC_ERROR\"}}\n"
     ]
    },
    {
     "name": "stdout",
     "output_type": "stream",
     "text": [
      "Trying another backend:  ibmqx4\n",
      "ibmqx4 : Currently not available.\n",
      "Refreshing available backends list...\n"
     ]
    },
    {
     "name": "stderr",
     "output_type": "stream",
     "text": [
      "Got a 400 code response to https://quantumexperience.ng.bluemix.net/api/Jobs?access_token=sNNLHrfX1u1S8v9w4yw1YBDPpHHIXC9EEZnHI7oJeCWfJDPOGUGI8GYnzGbtEAOM: {\"error\":{\"status\":400,\"message\":\"Generic error\",\"code\":\"GENERIC_ERROR\"}}\n",
      "Got a 400 code response to https://quantumexperience.ng.bluemix.net/api/Jobs?access_token=sNNLHrfX1u1S8v9w4yw1YBDPpHHIXC9EEZnHI7oJeCWfJDPOGUGI8GYnzGbtEAOM: {\"error\":{\"status\":400,\"message\":\"Generic error\",\"code\":\"GENERIC_ERROR\"}}\n"
     ]
    },
    {
     "name": "stdout",
     "output_type": "stream",
     "text": [
      "Trying another backend:  ibmqx5\n",
      "Executing quantum program on backend: ibmqx5\n",
      "Program send for execution to  ibmqx5 .\n",
      "Iteration number:  8\n",
      "Getting available backends...\n"
     ]
    },
    {
     "name": "stderr",
     "output_type": "stream",
     "text": [
      "Got a 400 code response to https://quantumexperience.ng.bluemix.net/api/Jobs?access_token=sNNLHrfX1u1S8v9w4yw1YBDPpHHIXC9EEZnHI7oJeCWfJDPOGUGI8GYnzGbtEAOM: {\"error\":{\"status\":400,\"message\":\"Generic error\",\"code\":\"GENERIC_ERROR\"}}\n"
     ]
    },
    {
     "name": "stdout",
     "output_type": "stream",
     "text": [
      "ibmqx2 : Currently not available.\n",
      "Refreshing available backends list...\n",
      "Trying another backend:  ibmqx4\n",
      "ibmqx4 : Currently not available.\n",
      "Refreshing available backends list...\n",
      "Trying another backend:  ibmqx5\n",
      "Executing quantum program on backend: ibmqx5\n",
      "Program send for execution to  ibmqx5 .\n",
      "Iteration number:  9\n",
      "Getting available backends...\n"
     ]
    },
    {
     "name": "stderr",
     "output_type": "stream",
     "text": [
      "Got a 400 code response to https://quantumexperience.ng.bluemix.net/api/Jobs?access_token=sNNLHrfX1u1S8v9w4yw1YBDPpHHIXC9EEZnHI7oJeCWfJDPOGUGI8GYnzGbtEAOM: {\"error\":{\"status\":400,\"message\":\"Generic error\",\"code\":\"GENERIC_ERROR\"}}\n"
     ]
    },
    {
     "name": "stdout",
     "output_type": "stream",
     "text": [
      "ibmqx2 : Currently not available.\n",
      "Refreshing available backends list...\n"
     ]
    },
    {
     "name": "stderr",
     "output_type": "stream",
     "text": [
      "Got a 400 code response to https://quantumexperience.ng.bluemix.net/api/Jobs?access_token=sNNLHrfX1u1S8v9w4yw1YBDPpHHIXC9EEZnHI7oJeCWfJDPOGUGI8GYnzGbtEAOM: {\"error\":{\"status\":400,\"message\":\"Generic error\",\"code\":\"GENERIC_ERROR\"}}\n",
      "Got a 400 code response to https://quantumexperience.ng.bluemix.net/api/Jobs?access_token=sNNLHrfX1u1S8v9w4yw1YBDPpHHIXC9EEZnHI7oJeCWfJDPOGUGI8GYnzGbtEAOM: {\"error\":{\"status\":400,\"message\":\"Generic error\",\"code\":\"GENERIC_ERROR\"}}\n"
     ]
    },
    {
     "name": "stdout",
     "output_type": "stream",
     "text": [
      "Trying another backend:  ibmqx4\n",
      "ibmqx4 : Currently not available.\n",
      "Refreshing available backends list...\n"
     ]
    },
    {
     "name": "stderr",
     "output_type": "stream",
     "text": [
      "Got a 400 code response to https://quantumexperience.ng.bluemix.net/api/Jobs?access_token=sNNLHrfX1u1S8v9w4yw1YBDPpHHIXC9EEZnHI7oJeCWfJDPOGUGI8GYnzGbtEAOM: {\"error\":{\"status\":400,\"message\":\"Generic error\",\"code\":\"GENERIC_ERROR\"}}\n"
     ]
    },
    {
     "name": "stdout",
     "output_type": "stream",
     "text": [
      "Trying another backend:  ibmqx5\n",
      "Executing quantum program on backend: ibmqx5\n"
     ]
    },
    {
     "name": "stderr",
     "output_type": "stream",
     "text": [
      "Got a 400 code response to https://quantumexperience.ng.bluemix.net/api/Jobs?access_token=sNNLHrfX1u1S8v9w4yw1YBDPpHHIXC9EEZnHI7oJeCWfJDPOGUGI8GYnzGbtEAOM: {\"error\":{\"status\":400,\"message\":\"Generic error\",\"code\":\"GENERIC_ERROR\"}}\n"
     ]
    },
    {
     "name": "stdout",
     "output_type": "stream",
     "text": [
      "Program send for execution to  ibmqx5 .\n",
      "Iteration number:  10\n",
      "Getting available backends...\n",
      "ibmqx2 : Currently not available.\n",
      "Refreshing available backends list...\n",
      "Trying another backend:  ibmqx4\n",
      "ibmqx4 : Currently not available.\n",
      "Refreshing available backends list...\n",
      "Trying another backend:  ibmqx5\n",
      "Executing quantum program on backend: ibmqx5\n"
     ]
    },
    {
     "name": "stderr",
     "output_type": "stream",
     "text": [
      "Got a 502 code response to https://quantumexperience.ng.bluemix.net/api/Jobs?access_token=sNNLHrfX1u1S8v9w4yw1YBDPpHHIXC9EEZnHI7oJeCWfJDPOGUGI8GYnzGbtEAOM: 502 Bad Gateway: Registered endpoint failed to handle the request.\n",
      "\n"
     ]
    },
    {
     "name": "stdout",
     "output_type": "stream",
     "text": [
      "Program send for execution to  ibmqx5 .\n",
      "Iteration number:  11\n",
      "Getting available backends...\n"
     ]
    },
    {
     "name": "stderr",
     "output_type": "stream",
     "text": [
      "Got a 400 code response to https://quantumexperience.ng.bluemix.net/api/Jobs?access_token=sNNLHrfX1u1S8v9w4yw1YBDPpHHIXC9EEZnHI7oJeCWfJDPOGUGI8GYnzGbtEAOM: {\"error\":{\"status\":400,\"message\":\"Generic error\",\"code\":\"GENERIC_ERROR\"}}\n"
     ]
    },
    {
     "name": "stdout",
     "output_type": "stream",
     "text": [
      "ibmqx2 : Currently not available.\n",
      "Refreshing available backends list...\n"
     ]
    },
    {
     "name": "stderr",
     "output_type": "stream",
     "text": [
      "Got a 400 code response to https://quantumexperience.ng.bluemix.net/api/Jobs?access_token=sNNLHrfX1u1S8v9w4yw1YBDPpHHIXC9EEZnHI7oJeCWfJDPOGUGI8GYnzGbtEAOM: {\"error\":{\"status\":400,\"message\":\"Generic error\",\"code\":\"GENERIC_ERROR\"}}\n"
     ]
    },
    {
     "name": "stdout",
     "output_type": "stream",
     "text": [
      "Trying another backend:  ibmqx4\n",
      "ibmqx4 : Currently not available.\n",
      "Refreshing available backends list...\n"
     ]
    },
    {
     "name": "stderr",
     "output_type": "stream",
     "text": [
      "Got a 400 code response to https://quantumexperience.ng.bluemix.net/api/Jobs?access_token=sNNLHrfX1u1S8v9w4yw1YBDPpHHIXC9EEZnHI7oJeCWfJDPOGUGI8GYnzGbtEAOM: {\"error\":{\"status\":400,\"message\":\"Generic error\",\"code\":\"GENERIC_ERROR\"}}\n",
      "Got a 400 code response to https://quantumexperience.ng.bluemix.net/api/Jobs?access_token=sNNLHrfX1u1S8v9w4yw1YBDPpHHIXC9EEZnHI7oJeCWfJDPOGUGI8GYnzGbtEAOM: {\"error\":{\"status\":400,\"message\":\"Generic error\",\"code\":\"GENERIC_ERROR\"}}\n"
     ]
    },
    {
     "name": "stdout",
     "output_type": "stream",
     "text": [
      "Trying another backend:  ibmqx5\n",
      "Executing quantum program on backend: ibmqx5\n"
     ]
    },
    {
     "name": "stderr",
     "output_type": "stream",
     "text": [
      "Got a 400 code response to https://quantumexperience.ng.bluemix.net/api/Jobs?access_token=sNNLHrfX1u1S8v9w4yw1YBDPpHHIXC9EEZnHI7oJeCWfJDPOGUGI8GYnzGbtEAOM: {\"error\":{\"status\":400,\"message\":\"Generic error\",\"code\":\"GENERIC_ERROR\"}}\n"
     ]
    },
    {
     "name": "stdout",
     "output_type": "stream",
     "text": [
      "Program send for execution to  ibmqx5 .\n",
      "Iteration number:  12\n"
     ]
    },
    {
     "name": "stderr",
     "output_type": "stream",
     "text": [
      "Got a 400 code response to https://quantumexperience.ng.bluemix.net/api/Jobs?access_token=sNNLHrfX1u1S8v9w4yw1YBDPpHHIXC9EEZnHI7oJeCWfJDPOGUGI8GYnzGbtEAOM: {\"error\":{\"status\":400,\"message\":\"Generic error\",\"code\":\"GENERIC_ERROR\"}}\n"
     ]
    },
    {
     "name": "stdout",
     "output_type": "stream",
     "text": [
      "Getting available backends...\n"
     ]
    },
    {
     "name": "stderr",
     "output_type": "stream",
     "text": [
      "Got a 502 code response to https://quantumexperience.ng.bluemix.net/api/Jobs?access_token=sNNLHrfX1u1S8v9w4yw1YBDPpHHIXC9EEZnHI7oJeCWfJDPOGUGI8GYnzGbtEAOM: 502 Bad Gateway: Registered endpoint failed to handle the request.\n",
      "\n",
      "Got a 400 code response to https://quantumexperience.ng.bluemix.net/api/Jobs?access_token=sNNLHrfX1u1S8v9w4yw1YBDPpHHIXC9EEZnHI7oJeCWfJDPOGUGI8GYnzGbtEAOM: {\"error\":{\"status\":400,\"message\":\"Generic error\",\"code\":\"GENERIC_ERROR\"}}\n"
     ]
    },
    {
     "name": "stdout",
     "output_type": "stream",
     "text": [
      "ibmqx2 : Currently not available.\n",
      "Refreshing available backends list...\n"
     ]
    },
    {
     "name": "stderr",
     "output_type": "stream",
     "text": [
      "Got a 400 code response to https://quantumexperience.ng.bluemix.net/api/Jobs?access_token=sNNLHrfX1u1S8v9w4yw1YBDPpHHIXC9EEZnHI7oJeCWfJDPOGUGI8GYnzGbtEAOM: {\"error\":{\"status\":400,\"message\":\"Generic error\",\"code\":\"GENERIC_ERROR\"}}\n",
      "Got a 400 code response to https://quantumexperience.ng.bluemix.net/api/Jobs?access_token=sNNLHrfX1u1S8v9w4yw1YBDPpHHIXC9EEZnHI7oJeCWfJDPOGUGI8GYnzGbtEAOM: {\"error\":{\"status\":400,\"message\":\"Generic error\",\"code\":\"GENERIC_ERROR\"}}\n",
      "Got a 400 code response to https://quantumexperience.ng.bluemix.net/api/Jobs?access_token=sNNLHrfX1u1S8v9w4yw1YBDPpHHIXC9EEZnHI7oJeCWfJDPOGUGI8GYnzGbtEAOM: {\"error\":{\"status\":400,\"message\":\"Generic error\",\"code\":\"GENERIC_ERROR\"}}\n"
     ]
    },
    {
     "name": "stdout",
     "output_type": "stream",
     "text": [
      "Trying another backend:  ibmqx4\n",
      "ibmqx4 : Currently not available.\n",
      "Refreshing available backends list...\n"
     ]
    },
    {
     "name": "stderr",
     "output_type": "stream",
     "text": [
      "Got a 400 code response to https://quantumexperience.ng.bluemix.net/api/Jobs?access_token=sNNLHrfX1u1S8v9w4yw1YBDPpHHIXC9EEZnHI7oJeCWfJDPOGUGI8GYnzGbtEAOM: {\"error\":{\"status\":400,\"message\":\"Generic error\",\"code\":\"GENERIC_ERROR\"}}\n",
      "Got a 400 code response to https://quantumexperience.ng.bluemix.net/api/Jobs?access_token=sNNLHrfX1u1S8v9w4yw1YBDPpHHIXC9EEZnHI7oJeCWfJDPOGUGI8GYnzGbtEAOM: {\"error\":{\"status\":400,\"message\":\"Generic error\",\"code\":\"GENERIC_ERROR\"}}\n",
      "Got a 400 code response to https://quantumexperience.ng.bluemix.net/api/Jobs?access_token=sNNLHrfX1u1S8v9w4yw1YBDPpHHIXC9EEZnHI7oJeCWfJDPOGUGI8GYnzGbtEAOM: {\"error\":{\"status\":400,\"message\":\"Generic error\",\"code\":\"GENERIC_ERROR\"}}\n"
     ]
    },
    {
     "name": "stdout",
     "output_type": "stream",
     "text": [
      "Trying another backend:  ibmqx5\n",
      "Executing quantum program on backend: ibmqx5\n",
      "Program send for execution to  ibmqx5 .\n",
      "Iteration number:  13\n",
      "Getting available backends...\n"
     ]
    },
    {
     "name": "stderr",
     "output_type": "stream",
     "text": [
      "Got a 400 code response to https://quantumexperience.ng.bluemix.net/api/Jobs?access_token=sNNLHrfX1u1S8v9w4yw1YBDPpHHIXC9EEZnHI7oJeCWfJDPOGUGI8GYnzGbtEAOM: {\"error\":{\"status\":400,\"message\":\"Generic error\",\"code\":\"GENERIC_ERROR\"}}\n"
     ]
    },
    {
     "name": "stdout",
     "output_type": "stream",
     "text": [
      "ibmqx2 : Currently not available.\n",
      "Refreshing available backends list...\n"
     ]
    },
    {
     "name": "stderr",
     "output_type": "stream",
     "text": [
      "Got a 400 code response to https://quantumexperience.ng.bluemix.net/api/Jobs?access_token=sNNLHrfX1u1S8v9w4yw1YBDPpHHIXC9EEZnHI7oJeCWfJDPOGUGI8GYnzGbtEAOM: {\"error\":{\"status\":400,\"message\":\"Generic error\",\"code\":\"GENERIC_ERROR\"}}\n"
     ]
    },
    {
     "name": "stdout",
     "output_type": "stream",
     "text": [
      "Trying another backend:  ibmqx4\n",
      "ibmqx4 : Currently not available.\n",
      "Refreshing available backends list...\n"
     ]
    },
    {
     "name": "stderr",
     "output_type": "stream",
     "text": [
      "Got a 400 code response to https://quantumexperience.ng.bluemix.net/api/Jobs?access_token=sNNLHrfX1u1S8v9w4yw1YBDPpHHIXC9EEZnHI7oJeCWfJDPOGUGI8GYnzGbtEAOM: {\"error\":{\"status\":400,\"message\":\"Generic error\",\"code\":\"GENERIC_ERROR\"}}\n",
      "Got a 400 code response to https://quantumexperience.ng.bluemix.net/api/Jobs?access_token=sNNLHrfX1u1S8v9w4yw1YBDPpHHIXC9EEZnHI7oJeCWfJDPOGUGI8GYnzGbtEAOM: {\"error\":{\"status\":400,\"message\":\"Generic error\",\"code\":\"GENERIC_ERROR\"}}\n"
     ]
    },
    {
     "name": "stdout",
     "output_type": "stream",
     "text": [
      "Trying another backend:  ibmqx5\n",
      "Executing quantum program on backend: ibmqx5\n"
     ]
    },
    {
     "name": "stderr",
     "output_type": "stream",
     "text": [
      "Got a 502 code response to https://quantumexperience.ng.bluemix.net/api/Jobs?access_token=sNNLHrfX1u1S8v9w4yw1YBDPpHHIXC9EEZnHI7oJeCWfJDPOGUGI8GYnzGbtEAOM: 502 Bad Gateway: Registered endpoint failed to handle the request.\n",
      "\n"
     ]
    },
    {
     "name": "stdout",
     "output_type": "stream",
     "text": [
      "Program send for execution to  ibmqx5 .\n",
      "Iteration number:  14\n"
     ]
    },
    {
     "name": "stderr",
     "output_type": "stream",
     "text": [
      "Got a 400 code response to https://quantumexperience.ng.bluemix.net/api/Jobs?access_token=sNNLHrfX1u1S8v9w4yw1YBDPpHHIXC9EEZnHI7oJeCWfJDPOGUGI8GYnzGbtEAOM: {\"error\":{\"status\":400,\"message\":\"Generic error\",\"code\":\"GENERIC_ERROR\"}}\n"
     ]
    },
    {
     "name": "stdout",
     "output_type": "stream",
     "text": [
      "Getting available backends...\n"
     ]
    },
    {
     "name": "stderr",
     "output_type": "stream",
     "text": [
      "Got a 400 code response to https://quantumexperience.ng.bluemix.net/api/Jobs?access_token=sNNLHrfX1u1S8v9w4yw1YBDPpHHIXC9EEZnHI7oJeCWfJDPOGUGI8GYnzGbtEAOM: {\"error\":{\"status\":400,\"message\":\"Generic error\",\"code\":\"GENERIC_ERROR\"}}\n"
     ]
    },
    {
     "name": "stdout",
     "output_type": "stream",
     "text": [
      "ibmqx2 : Currently not available.\n",
      "Refreshing available backends list...\n",
      "Trying another backend:  ibmqx4\n",
      "ibmqx4 : Currently not available.\n",
      "Refreshing available backends list...\n"
     ]
    },
    {
     "name": "stderr",
     "output_type": "stream",
     "text": [
      "Got a 400 code response to https://quantumexperience.ng.bluemix.net/api/Jobs?access_token=sNNLHrfX1u1S8v9w4yw1YBDPpHHIXC9EEZnHI7oJeCWfJDPOGUGI8GYnzGbtEAOM: {\"error\":{\"status\":400,\"message\":\"Generic error\",\"code\":\"GENERIC_ERROR\"}}\n",
      "Got a 400 code response to https://quantumexperience.ng.bluemix.net/api/Jobs?access_token=sNNLHrfX1u1S8v9w4yw1YBDPpHHIXC9EEZnHI7oJeCWfJDPOGUGI8GYnzGbtEAOM: {\"error\":{\"status\":400,\"message\":\"Generic error\",\"code\":\"GENERIC_ERROR\"}}\n"
     ]
    },
    {
     "name": "stdout",
     "output_type": "stream",
     "text": [
      "Trying another backend:  ibmqx5\n",
      "Executing quantum program on backend: ibmqx5\n"
     ]
    },
    {
     "name": "stderr",
     "output_type": "stream",
     "text": [
      "Got a 400 code response to https://quantumexperience.ng.bluemix.net/api/Jobs?access_token=sNNLHrfX1u1S8v9w4yw1YBDPpHHIXC9EEZnHI7oJeCWfJDPOGUGI8GYnzGbtEAOM: {\"error\":{\"status\":400,\"message\":\"Generic error\",\"code\":\"GENERIC_ERROR\"}}\n"
     ]
    },
    {
     "name": "stdout",
     "output_type": "stream",
     "text": [
      "Program send for execution to  ibmqx5 .\n",
      "Iteration number:  15\n",
      "Getting available backends...\n"
     ]
    },
    {
     "name": "stderr",
     "output_type": "stream",
     "text": [
      "Got a 400 code response to https://quantumexperience.ng.bluemix.net/api/Jobs?access_token=sNNLHrfX1u1S8v9w4yw1YBDPpHHIXC9EEZnHI7oJeCWfJDPOGUGI8GYnzGbtEAOM: {\"error\":{\"status\":400,\"message\":\"Generic error\",\"code\":\"GENERIC_ERROR\"}}\n"
     ]
    },
    {
     "name": "stdout",
     "output_type": "stream",
     "text": [
      "ibmqx2 : Currently not available.\n",
      "Refreshing available backends list...\n"
     ]
    },
    {
     "name": "stderr",
     "output_type": "stream",
     "text": [
      "Got a 400 code response to https://quantumexperience.ng.bluemix.net/api/Jobs?access_token=sNNLHrfX1u1S8v9w4yw1YBDPpHHIXC9EEZnHI7oJeCWfJDPOGUGI8GYnzGbtEAOM: {\"error\":{\"status\":400,\"message\":\"Generic error\",\"code\":\"GENERIC_ERROR\"}}\n"
     ]
    },
    {
     "name": "stdout",
     "output_type": "stream",
     "text": [
      "Trying another backend:  ibmqx4\n",
      "ibmqx4 : Currently not available.\n",
      "Refreshing available backends list...\n",
      "Trying another backend:  ibmqx5\n",
      "Executing quantum program on backend: ibmqx5\n"
     ]
    },
    {
     "name": "stderr",
     "output_type": "stream",
     "text": [
      "Got a 400 code response to https://quantumexperience.ng.bluemix.net/api/Jobs?access_token=sNNLHrfX1u1S8v9w4yw1YBDPpHHIXC9EEZnHI7oJeCWfJDPOGUGI8GYnzGbtEAOM: {\"error\":{\"status\":400,\"message\":\"Generic error\",\"code\":\"GENERIC_ERROR\"}}\n"
     ]
    },
    {
     "name": "stdout",
     "output_type": "stream",
     "text": [
      "Program send for execution to  ibmqx5 .\n",
      "Iteration number:  16\n",
      "Getting available backends...\n"
     ]
    },
    {
     "name": "stderr",
     "output_type": "stream",
     "text": [
      "Got a 400 code response to https://quantumexperience.ng.bluemix.net/api/Jobs?access_token=sNNLHrfX1u1S8v9w4yw1YBDPpHHIXC9EEZnHI7oJeCWfJDPOGUGI8GYnzGbtEAOM: {\"error\":{\"status\":400,\"message\":\"Generic error\",\"code\":\"GENERIC_ERROR\"}}\n"
     ]
    },
    {
     "name": "stdout",
     "output_type": "stream",
     "text": [
      "ibmqx2 : Currently not available.\n",
      "Refreshing available backends list...\n"
     ]
    },
    {
     "name": "stderr",
     "output_type": "stream",
     "text": [
      "Got a 400 code response to https://quantumexperience.ng.bluemix.net/api/Jobs?access_token=sNNLHrfX1u1S8v9w4yw1YBDPpHHIXC9EEZnHI7oJeCWfJDPOGUGI8GYnzGbtEAOM: {\"error\":{\"status\":400,\"message\":\"Generic error\",\"code\":\"GENERIC_ERROR\"}}\n"
     ]
    },
    {
     "name": "stdout",
     "output_type": "stream",
     "text": [
      "Trying another backend:  ibmqx4\n",
      "ibmqx4 : Currently not available.\n",
      "Refreshing available backends list...\n"
     ]
    },
    {
     "name": "stderr",
     "output_type": "stream",
     "text": [
      "Got a 400 code response to https://quantumexperience.ng.bluemix.net/api/Jobs?access_token=sNNLHrfX1u1S8v9w4yw1YBDPpHHIXC9EEZnHI7oJeCWfJDPOGUGI8GYnzGbtEAOM: {\"error\":{\"status\":400,\"message\":\"Generic error\",\"code\":\"GENERIC_ERROR\"}}\n"
     ]
    },
    {
     "name": "stdout",
     "output_type": "stream",
     "text": [
      "Trying another backend:  ibmqx5\n",
      "Executing quantum program on backend: ibmqx5\n"
     ]
    },
    {
     "name": "stderr",
     "output_type": "stream",
     "text": [
      "Got a 400 code response to https://quantumexperience.ng.bluemix.net/api/Jobs?access_token=sNNLHrfX1u1S8v9w4yw1YBDPpHHIXC9EEZnHI7oJeCWfJDPOGUGI8GYnzGbtEAOM: {\"error\":{\"status\":400,\"message\":\"Generic error\",\"code\":\"GENERIC_ERROR\"}}\n"
     ]
    },
    {
     "name": "stdout",
     "output_type": "stream",
     "text": [
      "Program send for execution to  ibmqx5 .\n",
      "Iteration number:  17\n",
      "Getting available backends...\n",
      "ibmqx2 : Currently not available.\n",
      "Refreshing available backends list...\n"
     ]
    },
    {
     "name": "stderr",
     "output_type": "stream",
     "text": [
      "Got a 400 code response to https://quantumexperience.ng.bluemix.net/api/Jobs?access_token=sNNLHrfX1u1S8v9w4yw1YBDPpHHIXC9EEZnHI7oJeCWfJDPOGUGI8GYnzGbtEAOM: {\"error\":{\"status\":400,\"message\":\"Generic error\",\"code\":\"GENERIC_ERROR\"}}\n"
     ]
    },
    {
     "name": "stdout",
     "output_type": "stream",
     "text": [
      "Trying another backend:  ibmqx4\n",
      "ibmqx4 : Currently not available.\n",
      "Refreshing available backends list...\n"
     ]
    },
    {
     "name": "stderr",
     "output_type": "stream",
     "text": [
      "Got a 400 code response to https://quantumexperience.ng.bluemix.net/api/Jobs?access_token=sNNLHrfX1u1S8v9w4yw1YBDPpHHIXC9EEZnHI7oJeCWfJDPOGUGI8GYnzGbtEAOM: {\"error\":{\"status\":400,\"message\":\"Generic error\",\"code\":\"GENERIC_ERROR\"}}\n"
     ]
    },
    {
     "name": "stdout",
     "output_type": "stream",
     "text": [
      "Trying another backend:  ibmqx5\n",
      "Executing quantum program on backend: ibmqx5\n"
     ]
    },
    {
     "ename": "KeyboardInterrupt",
     "evalue": "",
     "output_type": "error",
     "traceback": [
      "\u001b[1;31m---------------------------------------------------------------------------\u001b[0m",
      "\u001b[1;31mKeyboardInterrupt\u001b[0m                         Traceback (most recent call last)",
      "\u001b[1;32m<ipython-input-136-6f30193447b1>\u001b[0m in \u001b[0;36m<module>\u001b[1;34m()\u001b[0m\n\u001b[1;32m----> 1\u001b[1;33m \u001b[0mrun_main_loop\u001b[0m\u001b[1;33m(\u001b[0m\u001b[0mcircuits\u001b[0m\u001b[1;33m)\u001b[0m\u001b[1;33m\u001b[0m\u001b[0m\n\u001b[0m\u001b[0;32m      2\u001b[0m \u001b[1;31m#ibmqx4 and ibmqx2 both currently under maintenance\u001b[0m\u001b[1;33m\u001b[0m\u001b[1;33m\u001b[0m\u001b[0m\n\u001b[0;32m      3\u001b[0m \u001b[1;31m#10 jobs sent for execution\u001b[0m\u001b[1;33m\u001b[0m\u001b[1;33m\u001b[0m\u001b[0m\n",
      "\u001b[1;32m~\\Documents\\fiz\\Q Experience\\QE\\IBMQE\\methods.py\u001b[0m in \u001b[0;36mrun_main_loop\u001b[1;34m(circuits)\u001b[0m\n\u001b[0;32m     95\u001b[0m \u001b[1;33m\u001b[0m\u001b[0m\n\u001b[0;32m     96\u001b[0m             \u001b[0mprint\u001b[0m\u001b[1;33m(\u001b[0m\u001b[1;34m\"Executing quantum program on backend:\"\u001b[0m\u001b[1;33m,\u001b[0m \u001b[0mbackend\u001b[0m\u001b[1;33m)\u001b[0m\u001b[1;33m\u001b[0m\u001b[0m\n\u001b[1;32m---> 97\u001b[1;33m             \u001b[0mexecute_circuits\u001b[0m\u001b[1;33m(\u001b[0m\u001b[0mcircuits\u001b[0m\u001b[1;33m,\u001b[0m \u001b[0mbackend\u001b[0m\u001b[1;33m)\u001b[0m\u001b[1;33m\u001b[0m\u001b[0m\n\u001b[0m\u001b[0;32m     98\u001b[0m \u001b[1;33m\u001b[0m\u001b[0m\n\u001b[0;32m     99\u001b[0m             \u001b[0mprint\u001b[0m\u001b[1;33m(\u001b[0m\u001b[1;34m\"Program send for execution to \"\u001b[0m\u001b[1;33m,\u001b[0m \u001b[0mbackend\u001b[0m\u001b[1;33m,\u001b[0m \u001b[1;34m'.'\u001b[0m\u001b[1;33m)\u001b[0m\u001b[1;33m\u001b[0m\u001b[0m\n",
      "\u001b[1;32m~\\Documents\\fiz\\Q Experience\\QE\\IBMQE\\methods.py\u001b[0m in \u001b[0;36mexecute_circuits\u001b[1;34m(circuits, backend_name)\u001b[0m\n\u001b[0;32m     38\u001b[0m \u001b[1;33m\u001b[0m\u001b[0m\n\u001b[0;32m     39\u001b[0m \u001b[1;32mdef\u001b[0m \u001b[0mexecute_circuits\u001b[0m\u001b[1;33m(\u001b[0m\u001b[0mcircuits\u001b[0m\u001b[1;33m,\u001b[0m \u001b[0mbackend_name\u001b[0m\u001b[1;33m)\u001b[0m\u001b[1;33m:\u001b[0m\u001b[1;33m\u001b[0m\u001b[0m\n\u001b[1;32m---> 40\u001b[1;33m     \u001b[1;32mreturn\u001b[0m \u001b[0mexecute\u001b[0m\u001b[1;33m(\u001b[0m\u001b[0mcircuits\u001b[0m\u001b[1;33m,\u001b[0m \u001b[0mbackend\u001b[0m\u001b[1;33m=\u001b[0m\u001b[0mbackend_name\u001b[0m\u001b[1;33m,\u001b[0m \u001b[0mshots\u001b[0m\u001b[1;33m=\u001b[0m\u001b[0mconsts\u001b[0m\u001b[1;33m.\u001b[0m\u001b[0mSHOTS\u001b[0m\u001b[1;33m)\u001b[0m\u001b[1;33m\u001b[0m\u001b[0m\n\u001b[0m\u001b[0;32m     41\u001b[0m \u001b[1;33m\u001b[0m\u001b[0m\n\u001b[0;32m     42\u001b[0m \u001b[1;33m\u001b[0m\u001b[0m\n",
      "\u001b[1;32m~\\Anaconda3\\lib\\site-packages\\qiskit\\wrapper\\_wrapper.py\u001b[0m in \u001b[0;36mexecute\u001b[1;34m(circuits, backend, config, basis_gates, coupling_map, initial_layout, shots, max_credits, seed, qobj_id, hpc, skip_transpiler, skip_translation)\u001b[0m\n\u001b[0;32m    206\u001b[0m                    \u001b[0mconfig\u001b[0m\u001b[1;33m,\u001b[0m \u001b[0mbasis_gates\u001b[0m\u001b[1;33m,\u001b[0m \u001b[0mcoupling_map\u001b[0m\u001b[1;33m,\u001b[0m \u001b[0minitial_layout\u001b[0m\u001b[1;33m,\u001b[0m\u001b[1;33m\u001b[0m\u001b[0m\n\u001b[0;32m    207\u001b[0m                    \u001b[0mshots\u001b[0m\u001b[1;33m,\u001b[0m \u001b[0mmax_credits\u001b[0m\u001b[1;33m,\u001b[0m \u001b[0mseed\u001b[0m\u001b[1;33m,\u001b[0m \u001b[0mqobj_id\u001b[0m\u001b[1;33m,\u001b[0m \u001b[0mhpc\u001b[0m\u001b[1;33m,\u001b[0m\u001b[1;33m\u001b[0m\u001b[0m\n\u001b[1;32m--> 208\u001b[1;33m                    skip_transpiler)\n\u001b[0m\u001b[0;32m    209\u001b[0m     \u001b[1;31m# XXX When qobj is done this should replace q_job\u001b[0m\u001b[1;33m\u001b[0m\u001b[1;33m\u001b[0m\u001b[0m\n\u001b[0;32m    210\u001b[0m     q_job = QuantumJob(qobj, backend=backend, preformatted=True, resources={\n",
      "\u001b[1;32m~\\Anaconda3\\lib\\site-packages\\qiskit\\wrapper\\_wrapper.py\u001b[0m in \u001b[0;36mcompile\u001b[1;34m(circuits, backend, config, basis_gates, coupling_map, initial_layout, shots, max_credits, seed, qobj_id, hpc, skip_transpiler, skip_translation)\u001b[0m\n\u001b[0;32m    168\u001b[0m                                     \u001b[0mconfig\u001b[0m\u001b[1;33m,\u001b[0m \u001b[0mbasis_gates\u001b[0m\u001b[1;33m,\u001b[0m \u001b[0mcoupling_map\u001b[0m\u001b[1;33m,\u001b[0m \u001b[0minitial_layout\u001b[0m\u001b[1;33m,\u001b[0m\u001b[1;33m\u001b[0m\u001b[0m\n\u001b[0;32m    169\u001b[0m                                     \u001b[0mshots\u001b[0m\u001b[1;33m,\u001b[0m \u001b[0mmax_credits\u001b[0m\u001b[1;33m,\u001b[0m \u001b[0mseed\u001b[0m\u001b[1;33m,\u001b[0m \u001b[0mqobj_id\u001b[0m\u001b[1;33m,\u001b[0m \u001b[0mhpc\u001b[0m\u001b[1;33m,\u001b[0m\u001b[1;33m\u001b[0m\u001b[0m\n\u001b[1;32m--> 170\u001b[1;33m                                     skip_transpiler)\n\u001b[0m\u001b[0;32m    171\u001b[0m \u001b[1;33m\u001b[0m\u001b[0m\n\u001b[0;32m    172\u001b[0m \u001b[1;33m\u001b[0m\u001b[0m\n",
      "\u001b[1;32m~\\Anaconda3\\lib\\site-packages\\qiskit\\_compiler.py\u001b[0m in \u001b[0;36mcompile\u001b[1;34m(circuits, backend, config, basis_gates, coupling_map, initial_layout, shots, max_credits, seed, qobj_id, hpc, skip_transpiler, skip_translation)\u001b[0m\n\u001b[0;32m    142\u001b[0m                 \u001b[0mcoupling_map\u001b[0m\u001b[1;33m=\u001b[0m\u001b[0mcoupling_map\u001b[0m\u001b[1;33m,\u001b[0m\u001b[1;33m\u001b[0m\u001b[0m\n\u001b[0;32m    143\u001b[0m                 \u001b[0minitial_layout\u001b[0m\u001b[1;33m=\u001b[0m\u001b[0minitial_layout\u001b[0m\u001b[1;33m,\u001b[0m\u001b[1;33m\u001b[0m\u001b[0m\n\u001b[1;32m--> 144\u001b[1;33m                 get_layout=True)\n\u001b[0m\u001b[0;32m    145\u001b[0m             \u001b[1;31m# Map the layout to a format that can be json encoded\u001b[0m\u001b[1;33m\u001b[0m\u001b[1;33m\u001b[0m\u001b[0m\n\u001b[0;32m    146\u001b[0m             \u001b[0mlist_layout\u001b[0m \u001b[1;33m=\u001b[0m \u001b[1;32mNone\u001b[0m\u001b[1;33m\u001b[0m\u001b[0m\n",
      "\u001b[1;32m~\\Anaconda3\\lib\\site-packages\\qiskit\\_compiler.py\u001b[0m in \u001b[0;36mcompile_circuit\u001b[1;34m(quantum_circuit, basis_gates, coupling_map, initial_layout, get_layout, format, seed)\u001b[0m\n\u001b[0;32m    223\u001b[0m         \u001b[0mlogger\u001b[0m\u001b[1;33m.\u001b[0m\u001b[0minfo\u001b[0m\u001b[1;33m(\u001b[0m\u001b[1;34m\"initial layout: %s\"\u001b[0m\u001b[1;33m,\u001b[0m \u001b[0minitial_layout\u001b[0m\u001b[1;33m)\u001b[0m\u001b[1;33m\u001b[0m\u001b[0m\n\u001b[0;32m    224\u001b[0m         compiled_dag_circuit, final_layout = swap_mapper(\n\u001b[1;32m--> 225\u001b[1;33m             compiled_dag_circuit, coupling, initial_layout, trials=20, seed=seed)\n\u001b[0m\u001b[0;32m    226\u001b[0m         \u001b[0mlogger\u001b[0m\u001b[1;33m.\u001b[0m\u001b[0minfo\u001b[0m\u001b[1;33m(\u001b[0m\u001b[1;34m\"final layout: %s\"\u001b[0m\u001b[1;33m,\u001b[0m \u001b[0mfinal_layout\u001b[0m\u001b[1;33m)\u001b[0m\u001b[1;33m\u001b[0m\u001b[0m\n\u001b[0;32m    227\u001b[0m         \u001b[1;31m# Expand swaps\u001b[0m\u001b[1;33m\u001b[0m\u001b[1;33m\u001b[0m\u001b[0m\n",
      "\u001b[1;32m~\\Anaconda3\\lib\\site-packages\\qiskit\\mapper\\_mapping.py\u001b[0m in \u001b[0;36mswap_mapper\u001b[1;34m(circuit_graph, coupling_graph, initial_layout, basis, trials, seed)\u001b[0m\n\u001b[0;32m    502\u001b[0m         \u001b[0msuccess_flag\u001b[0m\u001b[1;33m,\u001b[0m \u001b[0mbest_circ\u001b[0m\u001b[1;33m,\u001b[0m \u001b[0mbest_d\u001b[0m\u001b[1;33m,\u001b[0m \u001b[0mbest_layout\u001b[0m\u001b[1;33m,\u001b[0m \u001b[0mtrivial_flag\u001b[0m\u001b[0;31m \u001b[0m\u001b[0;31m\\\u001b[0m\u001b[1;33m\u001b[0m\u001b[0m\n\u001b[0;32m    503\u001b[0m             = layer_permutation(layer[\"partition\"], layout,\n\u001b[1;32m--> 504\u001b[1;33m                                 qubit_subset, coupling_graph, trials, seed)\n\u001b[0m\u001b[0;32m    505\u001b[0m         \u001b[0mlogger\u001b[0m\u001b[1;33m.\u001b[0m\u001b[0mdebug\u001b[0m\u001b[1;33m(\u001b[0m\u001b[1;34m\"swap_mapper: layer %d\"\u001b[0m\u001b[1;33m,\u001b[0m \u001b[0mi\u001b[0m\u001b[1;33m)\u001b[0m\u001b[1;33m\u001b[0m\u001b[0m\n\u001b[0;32m    506\u001b[0m         logger.debug(\"swap_mapper: success_flag=%s,best_d=%s,trivial_flag=%s\",\n",
      "\u001b[1;32m~\\Anaconda3\\lib\\site-packages\\qiskit\\mapper\\_mapping.py\u001b[0m in \u001b[0;36mlayer_permutation\u001b[1;34m(layer_partition, layout, qubit_subset, coupling, trials, seed)\u001b[0m\n\u001b[0;32m    214\u001b[0m         \u001b[1;32mfor\u001b[0m \u001b[0mi\u001b[0m \u001b[1;32min\u001b[0m \u001b[0mcoupling\u001b[0m\u001b[1;33m.\u001b[0m\u001b[0mget_qubits\u001b[0m\u001b[1;33m(\u001b[0m\u001b[1;33m)\u001b[0m\u001b[1;33m:\u001b[0m\u001b[1;33m\u001b[0m\u001b[0m\n\u001b[0;32m    215\u001b[0m             \u001b[1;32mfor\u001b[0m \u001b[0mj\u001b[0m \u001b[1;32min\u001b[0m \u001b[0mcoupling\u001b[0m\u001b[1;33m.\u001b[0m\u001b[0mget_qubits\u001b[0m\u001b[1;33m(\u001b[0m\u001b[1;33m)\u001b[0m\u001b[1;33m:\u001b[0m\u001b[1;33m\u001b[0m\u001b[0m\n\u001b[1;32m--> 216\u001b[1;33m                 \u001b[0mscale\u001b[0m \u001b[1;33m=\u001b[0m \u001b[1;36m1\u001b[0m \u001b[1;33m+\u001b[0m \u001b[0mnp\u001b[0m\u001b[1;33m.\u001b[0m\u001b[0mrandom\u001b[0m\u001b[1;33m.\u001b[0m\u001b[0mnormal\u001b[0m\u001b[1;33m(\u001b[0m\u001b[1;36m0\u001b[0m\u001b[1;33m,\u001b[0m \u001b[1;36m1\u001b[0m \u001b[1;33m/\u001b[0m \u001b[0mn\u001b[0m\u001b[1;33m)\u001b[0m\u001b[1;33m\u001b[0m\u001b[0m\n\u001b[0m\u001b[0;32m    217\u001b[0m                 \u001b[0mxi\u001b[0m\u001b[1;33m[\u001b[0m\u001b[0mi\u001b[0m\u001b[1;33m]\u001b[0m\u001b[1;33m[\u001b[0m\u001b[0mj\u001b[0m\u001b[1;33m]\u001b[0m \u001b[1;33m=\u001b[0m \u001b[0mscale\u001b[0m \u001b[1;33m*\u001b[0m \u001b[0mcoupling\u001b[0m\u001b[1;33m.\u001b[0m\u001b[0mdistance\u001b[0m\u001b[1;33m(\u001b[0m\u001b[0mi\u001b[0m\u001b[1;33m,\u001b[0m \u001b[0mj\u001b[0m\u001b[1;33m)\u001b[0m \u001b[1;33m**\u001b[0m \u001b[1;36m2\u001b[0m\u001b[1;33m\u001b[0m\u001b[0m\n\u001b[0;32m    218\u001b[0m                 \u001b[0mxi\u001b[0m\u001b[1;33m[\u001b[0m\u001b[0mj\u001b[0m\u001b[1;33m]\u001b[0m\u001b[1;33m[\u001b[0m\u001b[0mi\u001b[0m\u001b[1;33m]\u001b[0m \u001b[1;33m=\u001b[0m \u001b[0mxi\u001b[0m\u001b[1;33m[\u001b[0m\u001b[0mi\u001b[0m\u001b[1;33m]\u001b[0m\u001b[1;33m[\u001b[0m\u001b[0mj\u001b[0m\u001b[1;33m]\u001b[0m\u001b[1;33m\u001b[0m\u001b[0m\n",
      "\u001b[1;31mKeyboardInterrupt\u001b[0m: "
     ]
    },
    {
     "name": "stderr",
     "output_type": "stream",
     "text": [
      "Got a 400 code response to https://quantumexperience.ng.bluemix.net/api/Jobs?access_token=sNNLHrfX1u1S8v9w4yw1YBDPpHHIXC9EEZnHI7oJeCWfJDPOGUGI8GYnzGbtEAOM: {\"error\":{\"status\":400,\"message\":\"Generic error\",\"code\":\"GENERIC_ERROR\"}}\n"
     ]
    }
   ],
   "source": [
    "run_main_loop(circuits)"
   ]
  },
  {
   "cell_type": "code",
   "execution_count": 145,
   "metadata": {},
   "outputs": [
    {
     "name": "stderr",
     "output_type": "stream",
     "text": [
      "Got a 400 code response to https://quantumexperience.ng.bluemix.net/api/Jobs?access_token=sNNLHrfX1u1S8v9w4yw1YBDPpHHIXC9EEZnHI7oJeCWfJDPOGUGI8GYnzGbtEAOM: {\"error\":{\"status\":400,\"message\":\"Generic error\",\"code\":\"GENERIC_ERROR\"}}\n",
      "Got a 400 code response to https://quantumexperience.ng.bluemix.net/api/Jobs?access_token=sNNLHrfX1u1S8v9w4yw1YBDPpHHIXC9EEZnHI7oJeCWfJDPOGUGI8GYnzGbtEAOM: {\"error\":{\"status\":400,\"message\":\"Generic error\",\"code\":\"GENERIC_ERROR\"}}\n",
      "Got a 400 code response to https://quantumexperience.ng.bluemix.net/api/Jobs?access_token=sNNLHrfX1u1S8v9w4yw1YBDPpHHIXC9EEZnHI7oJeCWfJDPOGUGI8GYnzGbtEAOM: {\"error\":{\"status\":400,\"message\":\"Generic error\",\"code\":\"GENERIC_ERROR\"}}\n",
      "Got a 400 code response to https://quantumexperience.ng.bluemix.net/api/Jobs?access_token=sNNLHrfX1u1S8v9w4yw1YBDPpHHIXC9EEZnHI7oJeCWfJDPOGUGI8GYnzGbtEAOM: {\"error\":{\"status\":400,\"message\":\"Generic error\",\"code\":\"GENERIC_ERROR\"}}\n",
      "Got a 400 code response to https://quantumexperience.ng.bluemix.net/api/Jobs?access_token=sNNLHrfX1u1S8v9w4yw1YBDPpHHIXC9EEZnHI7oJeCWfJDPOGUGI8GYnzGbtEAOM: {\"error\":{\"status\":400,\"message\":\"Generic error\",\"code\":\"GENERIC_ERROR\"}}\n"
     ]
    }
   ],
   "source": [
    "job=qiskit.execute(circuits,'ibmqx5')"
   ]
  },
  {
   "cell_type": "markdown",
   "metadata": {},
   "source": [
    "### Simulation data analysis"
   ]
  },
  {
   "cell_type": "code",
   "execution_count": 63,
   "metadata": {},
   "outputs": [
    {
     "data": {
      "text/html": [
       "<div>\n",
       "<style scoped>\n",
       "    .dataframe tbody tr th:only-of-type {\n",
       "        vertical-align: middle;\n",
       "    }\n",
       "\n",
       "    .dataframe tbody tr th {\n",
       "        vertical-align: top;\n",
       "    }\n",
       "\n",
       "    .dataframe thead th {\n",
       "        text-align: right;\n",
       "    }\n",
       "</style>\n",
       "<table border=\"1\" class=\"dataframe\">\n",
       "  <thead>\n",
       "    <tr style=\"text-align: right;\">\n",
       "      <th></th>\n",
       "      <th>000</th>\n",
       "      <th>001</th>\n",
       "      <th>010</th>\n",
       "      <th>011</th>\n",
       "      <th>job</th>\n",
       "      <th>theta</th>\n",
       "      <th>alpha</th>\n",
       "      <th>beta</th>\n",
       "    </tr>\n",
       "  </thead>\n",
       "  <tbody>\n",
       "    <tr>\n",
       "      <th>0</th>\n",
       "      <td>1024.0</td>\n",
       "      <td>0.0</td>\n",
       "      <td>0.0</td>\n",
       "      <td>0.0</td>\n",
       "      <td>test</td>\n",
       "      <td>0.000000</td>\n",
       "      <td>1.000000</td>\n",
       "      <td>0.000000</td>\n",
       "    </tr>\n",
       "    <tr>\n",
       "      <th>1</th>\n",
       "      <td>528.0</td>\n",
       "      <td>0.0</td>\n",
       "      <td>496.0</td>\n",
       "      <td>0.0</td>\n",
       "      <td>teleport</td>\n",
       "      <td>0.000000</td>\n",
       "      <td>1.000000</td>\n",
       "      <td>0.000000</td>\n",
       "    </tr>\n",
       "    <tr>\n",
       "      <th>2</th>\n",
       "      <td>993.0</td>\n",
       "      <td>31.0</td>\n",
       "      <td>0.0</td>\n",
       "      <td>0.0</td>\n",
       "      <td>test</td>\n",
       "      <td>0.349066</td>\n",
       "      <td>0.969727</td>\n",
       "      <td>0.030273</td>\n",
       "    </tr>\n",
       "    <tr>\n",
       "      <th>3</th>\n",
       "      <td>495.0</td>\n",
       "      <td>10.0</td>\n",
       "      <td>501.0</td>\n",
       "      <td>18.0</td>\n",
       "      <td>teleport</td>\n",
       "      <td>0.349066</td>\n",
       "      <td>0.972656</td>\n",
       "      <td>0.027344</td>\n",
       "    </tr>\n",
       "    <tr>\n",
       "      <th>4</th>\n",
       "      <td>890.0</td>\n",
       "      <td>134.0</td>\n",
       "      <td>0.0</td>\n",
       "      <td>0.0</td>\n",
       "      <td>test</td>\n",
       "      <td>0.698132</td>\n",
       "      <td>0.869141</td>\n",
       "      <td>0.130859</td>\n",
       "    </tr>\n",
       "    <tr>\n",
       "      <th>5</th>\n",
       "      <td>458.0</td>\n",
       "      <td>57.0</td>\n",
       "      <td>451.0</td>\n",
       "      <td>58.0</td>\n",
       "      <td>teleport</td>\n",
       "      <td>0.698132</td>\n",
       "      <td>0.887695</td>\n",
       "      <td>0.112305</td>\n",
       "    </tr>\n",
       "    <tr>\n",
       "      <th>6</th>\n",
       "      <td>777.0</td>\n",
       "      <td>247.0</td>\n",
       "      <td>0.0</td>\n",
       "      <td>0.0</td>\n",
       "      <td>test</td>\n",
       "      <td>1.047198</td>\n",
       "      <td>0.758789</td>\n",
       "      <td>0.241211</td>\n",
       "    </tr>\n",
       "    <tr>\n",
       "      <th>7</th>\n",
       "      <td>366.0</td>\n",
       "      <td>130.0</td>\n",
       "      <td>393.0</td>\n",
       "      <td>135.0</td>\n",
       "      <td>teleport</td>\n",
       "      <td>1.047198</td>\n",
       "      <td>0.741211</td>\n",
       "      <td>0.258789</td>\n",
       "    </tr>\n",
       "    <tr>\n",
       "      <th>8</th>\n",
       "      <td>593.0</td>\n",
       "      <td>431.0</td>\n",
       "      <td>0.0</td>\n",
       "      <td>0.0</td>\n",
       "      <td>test</td>\n",
       "      <td>1.396263</td>\n",
       "      <td>0.579102</td>\n",
       "      <td>0.420898</td>\n",
       "    </tr>\n",
       "    <tr>\n",
       "      <th>9</th>\n",
       "      <td>316.0</td>\n",
       "      <td>204.0</td>\n",
       "      <td>284.0</td>\n",
       "      <td>220.0</td>\n",
       "      <td>teleport</td>\n",
       "      <td>1.396263</td>\n",
       "      <td>0.585938</td>\n",
       "      <td>0.414062</td>\n",
       "    </tr>\n",
       "    <tr>\n",
       "      <th>10</th>\n",
       "      <td>416.0</td>\n",
       "      <td>608.0</td>\n",
       "      <td>0.0</td>\n",
       "      <td>0.0</td>\n",
       "      <td>test</td>\n",
       "      <td>1.745329</td>\n",
       "      <td>0.406250</td>\n",
       "      <td>0.593750</td>\n",
       "    </tr>\n",
       "    <tr>\n",
       "      <th>11</th>\n",
       "      <td>201.0</td>\n",
       "      <td>312.0</td>\n",
       "      <td>213.0</td>\n",
       "      <td>298.0</td>\n",
       "      <td>teleport</td>\n",
       "      <td>1.745329</td>\n",
       "      <td>0.404297</td>\n",
       "      <td>0.595703</td>\n",
       "    </tr>\n",
       "    <tr>\n",
       "      <th>12</th>\n",
       "      <td>248.0</td>\n",
       "      <td>776.0</td>\n",
       "      <td>0.0</td>\n",
       "      <td>0.0</td>\n",
       "      <td>test</td>\n",
       "      <td>2.094395</td>\n",
       "      <td>0.242188</td>\n",
       "      <td>0.757812</td>\n",
       "    </tr>\n",
       "    <tr>\n",
       "      <th>13</th>\n",
       "      <td>112.0</td>\n",
       "      <td>409.0</td>\n",
       "      <td>129.0</td>\n",
       "      <td>374.0</td>\n",
       "      <td>teleport</td>\n",
       "      <td>2.094395</td>\n",
       "      <td>0.235352</td>\n",
       "      <td>0.764648</td>\n",
       "    </tr>\n",
       "    <tr>\n",
       "      <th>14</th>\n",
       "      <td>128.0</td>\n",
       "      <td>896.0</td>\n",
       "      <td>0.0</td>\n",
       "      <td>0.0</td>\n",
       "      <td>test</td>\n",
       "      <td>2.443461</td>\n",
       "      <td>0.125000</td>\n",
       "      <td>0.875000</td>\n",
       "    </tr>\n",
       "    <tr>\n",
       "      <th>15</th>\n",
       "      <td>70.0</td>\n",
       "      <td>467.0</td>\n",
       "      <td>59.0</td>\n",
       "      <td>428.0</td>\n",
       "      <td>teleport</td>\n",
       "      <td>2.443461</td>\n",
       "      <td>0.125977</td>\n",
       "      <td>0.874023</td>\n",
       "    </tr>\n",
       "    <tr>\n",
       "      <th>16</th>\n",
       "      <td>37.0</td>\n",
       "      <td>987.0</td>\n",
       "      <td>0.0</td>\n",
       "      <td>0.0</td>\n",
       "      <td>test</td>\n",
       "      <td>2.792527</td>\n",
       "      <td>0.036133</td>\n",
       "      <td>0.963867</td>\n",
       "    </tr>\n",
       "    <tr>\n",
       "      <th>17</th>\n",
       "      <td>15.0</td>\n",
       "      <td>471.0</td>\n",
       "      <td>23.0</td>\n",
       "      <td>515.0</td>\n",
       "      <td>teleport</td>\n",
       "      <td>2.792527</td>\n",
       "      <td>0.037109</td>\n",
       "      <td>0.962891</td>\n",
       "    </tr>\n",
       "    <tr>\n",
       "      <th>18</th>\n",
       "      <td>0.0</td>\n",
       "      <td>1024.0</td>\n",
       "      <td>0.0</td>\n",
       "      <td>0.0</td>\n",
       "      <td>test</td>\n",
       "      <td>3.141593</td>\n",
       "      <td>0.000000</td>\n",
       "      <td>1.000000</td>\n",
       "    </tr>\n",
       "    <tr>\n",
       "      <th>19</th>\n",
       "      <td>0.0</td>\n",
       "      <td>535.0</td>\n",
       "      <td>0.0</td>\n",
       "      <td>489.0</td>\n",
       "      <td>teleport</td>\n",
       "      <td>3.141593</td>\n",
       "      <td>0.000000</td>\n",
       "      <td>1.000000</td>\n",
       "    </tr>\n",
       "  </tbody>\n",
       "</table>\n",
       "</div>"
      ],
      "text/plain": [
       "       000     001    010    011       job     theta     alpha      beta\n",
       "0   1024.0     0.0    0.0    0.0      test  0.000000  1.000000  0.000000\n",
       "1    528.0     0.0  496.0    0.0  teleport  0.000000  1.000000  0.000000\n",
       "2    993.0    31.0    0.0    0.0      test  0.349066  0.969727  0.030273\n",
       "3    495.0    10.0  501.0   18.0  teleport  0.349066  0.972656  0.027344\n",
       "4    890.0   134.0    0.0    0.0      test  0.698132  0.869141  0.130859\n",
       "5    458.0    57.0  451.0   58.0  teleport  0.698132  0.887695  0.112305\n",
       "6    777.0   247.0    0.0    0.0      test  1.047198  0.758789  0.241211\n",
       "7    366.0   130.0  393.0  135.0  teleport  1.047198  0.741211  0.258789\n",
       "8    593.0   431.0    0.0    0.0      test  1.396263  0.579102  0.420898\n",
       "9    316.0   204.0  284.0  220.0  teleport  1.396263  0.585938  0.414062\n",
       "10   416.0   608.0    0.0    0.0      test  1.745329  0.406250  0.593750\n",
       "11   201.0   312.0  213.0  298.0  teleport  1.745329  0.404297  0.595703\n",
       "12   248.0   776.0    0.0    0.0      test  2.094395  0.242188  0.757812\n",
       "13   112.0   409.0  129.0  374.0  teleport  2.094395  0.235352  0.764648\n",
       "14   128.0   896.0    0.0    0.0      test  2.443461  0.125000  0.875000\n",
       "15    70.0   467.0   59.0  428.0  teleport  2.443461  0.125977  0.874023\n",
       "16    37.0   987.0    0.0    0.0      test  2.792527  0.036133  0.963867\n",
       "17    15.0   471.0   23.0  515.0  teleport  2.792527  0.037109  0.962891\n",
       "18     0.0  1024.0    0.0    0.0      test  3.141593  0.000000  1.000000\n",
       "19     0.0   535.0    0.0  489.0  teleport  3.141593  0.000000  1.000000"
      ]
     },
     "execution_count": 63,
     "metadata": {},
     "output_type": "execute_result"
    }
   ],
   "source": [
    "import pandas as pd\n",
    "df=pd.DataFrame(counts)\n",
    "df=df.fillna(0)\n",
    "df['job']=np.tile(['test','teleport'],10)\n",
    "df['alpha']=(df['000']+df['010'])/1024\n",
    "df['beta']=(df['001']+df['011'])/1024\n",
    "df"
   ]
  },
  {
   "cell_type": "code",
   "execution_count": 134,
   "metadata": {},
   "outputs": [
    {
     "data": {
      "image/png": "[encoded data removed]",
      "text/plain": [
       "<matplotlib.figure.Figure at 0x1fc047c58d0>"
      ]
     },
     "metadata": {},
     "output_type": "display_data"
    }
   ],
   "source": [
    "import matplotlib.pyplot as plt\n",
    "fig, (ax1, ax2) = plt.subplots(1, 2, gridspec_kw={'wspace':0.5})\n",
    "color={'test':'green','teleport':'red'}\n",
    "for key,group in df.groupby('job'):\n",
    "    group.plot.scatter(x='theta',y='alpha',ax=ax1,label=key,c=color[key])\n",
    "    group.plot.scatter(x='theta',y='beta',ax=ax2,label=key,c=color[key])\n",
    "ax1.plot(np.linspace(0,np.pi,100),np.cos(np.linspace(0,np.pi,100)/2)**2,label='cos^2(theta/2)')\n",
    "ax2.plot(np.linspace(0,np.pi,100),np.sin(np.linspace(0,np.pi,100)/2)**2,label='sin^2(theta/2)')\n",
    "ax1.legend()\n",
    "ax2.legend()\n",
    "plt.show()"
   ]
  },
  {
   "cell_type": "code",
   "execution_count": 126,
   "metadata": {},
   "outputs": [
    {
     "data": {
      "text/html": [
       "<div>\n",
       "<style scoped>\n",
       "    .dataframe tbody tr th:only-of-type {\n",
       "        vertical-align: middle;\n",
       "    }\n",
       "\n",
       "    .dataframe tbody tr th {\n",
       "        vertical-align: top;\n",
       "    }\n",
       "\n",
       "    .dataframe thead tr th {\n",
       "        text-align: left;\n",
       "    }\n",
       "\n",
       "    .dataframe thead tr:last-of-type th {\n",
       "        text-align: right;\n",
       "    }\n",
       "</style>\n",
       "<table border=\"1\" class=\"dataframe\">\n",
       "  <thead>\n",
       "    <tr>\n",
       "      <th></th>\n",
       "      <th colspan=\"3\" halign=\"left\">alpha</th>\n",
       "      <th colspan=\"3\" halign=\"left\">beta</th>\n",
       "    </tr>\n",
       "    <tr>\n",
       "      <th>job</th>\n",
       "      <th>teleport</th>\n",
       "      <th>test</th>\n",
       "      <th>theory</th>\n",
       "      <th>teleport</th>\n",
       "      <th>test</th>\n",
       "      <th>theory</th>\n",
       "    </tr>\n",
       "    <tr>\n",
       "      <th>theta</th>\n",
       "      <th></th>\n",
       "      <th></th>\n",
       "      <th></th>\n",
       "      <th></th>\n",
       "      <th></th>\n",
       "      <th></th>\n",
       "    </tr>\n",
       "  </thead>\n",
       "  <tbody>\n",
       "    <tr>\n",
       "      <th>0.000000</th>\n",
       "      <td>1.000</td>\n",
       "      <td>1.000</td>\n",
       "      <td>1.000</td>\n",
       "      <td>0.000</td>\n",
       "      <td>0.000</td>\n",
       "      <td>0.000</td>\n",
       "    </tr>\n",
       "    <tr>\n",
       "      <th>0.349066</th>\n",
       "      <td>0.973</td>\n",
       "      <td>0.970</td>\n",
       "      <td>0.970</td>\n",
       "      <td>0.027</td>\n",
       "      <td>0.030</td>\n",
       "      <td>0.030</td>\n",
       "    </tr>\n",
       "    <tr>\n",
       "      <th>0.698132</th>\n",
       "      <td>0.888</td>\n",
       "      <td>0.869</td>\n",
       "      <td>0.883</td>\n",
       "      <td>0.112</td>\n",
       "      <td>0.131</td>\n",
       "      <td>0.117</td>\n",
       "    </tr>\n",
       "    <tr>\n",
       "      <th>1.047198</th>\n",
       "      <td>0.741</td>\n",
       "      <td>0.759</td>\n",
       "      <td>0.750</td>\n",
       "      <td>0.259</td>\n",
       "      <td>0.241</td>\n",
       "      <td>0.250</td>\n",
       "    </tr>\n",
       "    <tr>\n",
       "      <th>1.396263</th>\n",
       "      <td>0.586</td>\n",
       "      <td>0.579</td>\n",
       "      <td>0.587</td>\n",
       "      <td>0.414</td>\n",
       "      <td>0.421</td>\n",
       "      <td>0.413</td>\n",
       "    </tr>\n",
       "    <tr>\n",
       "      <th>1.745329</th>\n",
       "      <td>0.404</td>\n",
       "      <td>0.406</td>\n",
       "      <td>0.413</td>\n",
       "      <td>0.596</td>\n",
       "      <td>0.594</td>\n",
       "      <td>0.587</td>\n",
       "    </tr>\n",
       "    <tr>\n",
       "      <th>2.094395</th>\n",
       "      <td>0.235</td>\n",
       "      <td>0.242</td>\n",
       "      <td>0.250</td>\n",
       "      <td>0.765</td>\n",
       "      <td>0.758</td>\n",
       "      <td>0.750</td>\n",
       "    </tr>\n",
       "    <tr>\n",
       "      <th>2.443461</th>\n",
       "      <td>0.126</td>\n",
       "      <td>0.125</td>\n",
       "      <td>0.117</td>\n",
       "      <td>0.874</td>\n",
       "      <td>0.875</td>\n",
       "      <td>0.883</td>\n",
       "    </tr>\n",
       "    <tr>\n",
       "      <th>2.792527</th>\n",
       "      <td>0.037</td>\n",
       "      <td>0.036</td>\n",
       "      <td>0.030</td>\n",
       "      <td>0.963</td>\n",
       "      <td>0.964</td>\n",
       "      <td>0.970</td>\n",
       "    </tr>\n",
       "    <tr>\n",
       "      <th>3.141593</th>\n",
       "      <td>0.000</td>\n",
       "      <td>0.000</td>\n",
       "      <td>0.000</td>\n",
       "      <td>1.000</td>\n",
       "      <td>1.000</td>\n",
       "      <td>1.000</td>\n",
       "    </tr>\n",
       "  </tbody>\n",
       "</table>\n",
       "</div>"
      ],
      "text/plain": [
       "            alpha                   beta              \n",
       "job      teleport   test theory teleport   test theory\n",
       "theta                                                 \n",
       "0.000000    1.000  1.000  1.000    0.000  0.000  0.000\n",
       "0.349066    0.973  0.970  0.970    0.027  0.030  0.030\n",
       "0.698132    0.888  0.869  0.883    0.112  0.131  0.117\n",
       "1.047198    0.741  0.759  0.750    0.259  0.241  0.250\n",
       "1.396263    0.586  0.579  0.587    0.414  0.421  0.413\n",
       "1.745329    0.404  0.406  0.413    0.596  0.594  0.587\n",
       "2.094395    0.235  0.242  0.250    0.765  0.758  0.750\n",
       "2.443461    0.126  0.125  0.117    0.874  0.875  0.883\n",
       "2.792527    0.037  0.036  0.030    0.963  0.964  0.970\n",
       "3.141593    0.000  0.000  0.000    1.000  1.000  1.000"
      ]
     },
     "execution_count": 126,
     "metadata": {},
     "output_type": "execute_result"
    }
   ],
   "source": [
    "agg_data=df.append(pd.DataFrame({'theta':np.linspace(0,np.pi,10),\n",
    "                                 'job':'theory',\n",
    "                                 'alpha':np.cos(np.linspace(0,np.pi,10)/2)**2,\n",
    "                                 'beta':np.sin(np.linspace(0,np.pi,10)/2)**2\n",
    "             })).pivot_table(values=['alpha','beta'],\n",
    "                             index='theta',\n",
    "                             columns='job',\n",
    "                             aggfunc='sum')\n",
    "agg_data.round(3)"
   ]
  },
  {
   "cell_type": "code",
   "execution_count": 132,
   "metadata": {},
   "outputs": [
    {
     "data": {
      "image/png": "[encoded data removed]",
      "text/plain": [
       "<matplotlib.figure.Figure at 0x1fc046c1940>"
      ]
     },
     "metadata": {},
     "output_type": "display_data"
    }
   ],
   "source": [
    "f, (a1,a2) = plt.subplots(1, 2, gridspec_kw={'wspace':0.5})\n",
    "agg_data.plot.scatter(x=('alpha', 'test'),y=('alpha', 'teleport'),ax=a1)\n",
    "agg_data.plot.scatter(x=('beta', 'test'),y=('beta', 'teleport'),ax=a2)\n",
    "a1.set_ylabel('alpha-teleport')\n",
    "a1.set_xlabel('alpha-test')\n",
    "a2.set_ylabel('beta-teleport')\n",
    "a2.set_xlabel('beta-test')\n",
    "a1.plot([0,1],[0,1])\n",
    "a2.plot([0,1],[0,1])\n",
    "a1.set_aspect(1)\n",
    "a2.set_aspect(1)\n",
    "plt.show()"
   ]
  }
 ],
 "metadata": {
  "kernelspec": {
   "display_name": "Python 3",
   "language": "python",
   "name": "python3"
  },
  "language_info": {
   "codemirror_mode": {
    "name": "ipython",
    "version": 3
   },
   "file_extension": ".py",
   "mimetype": "text/x-python",
   "name": "python",
   "nbconvert_exporter": "python",
   "pygments_lexer": "ipython3",
   "version": "3.6.4"
  }
 },
 "nbformat": 4,
 "nbformat_minor": 2
}
