{
 "cells": [
  {
   "cell_type": "code",
   "execution_count": 22,
   "metadata": {},
   "outputs": [],
   "source": [
    "import qiskit\n",
    "import sys\n",
    "sys.path.append('../..')\n",
    "from methods import run_main_loop, execute_circuits\n",
    "from qiskit.tools.visualization import matplotlib_circuit_drawer as drawer"
   ]
  },
  {
   "cell_type": "code",
   "execution_count": 3,
   "metadata": {},
   "outputs": [],
   "source": [
    "qr = qiskit.QuantumRegister(5)\n",
    "cr = qiskit.ClassicalRegister(5)"
   ]
  },
  {
   "cell_type": "code",
   "execution_count": 4,
   "metadata": {},
   "outputs": [],
   "source": [
    "#Mapowanie\n",
    "C1=3\n",
    "C2=4\n",
    "C3=1\n",
    "T=0\n",
    "A=2"
   ]
  },
  {
   "cell_type": "code",
   "execution_count": 5,
   "metadata": {},
   "outputs": [],
   "source": [
    "def ccnot(control1, control2, target):\n",
    "    circuit = qiskit.QuantumCircuit(qr, cr)\n",
    "    circuit.ccx(qr[control1], qr[control2], qr[target])\n",
    "    return(circuit)"
   ]
  },
  {
   "cell_type": "code",
   "execution_count": 6,
   "metadata": {},
   "outputs": [],
   "source": [
    "def rtof3(control1,control2,target):\n",
    "    rtof=qiskit.QuantumCircuit(qr, cr)\n",
    "    rtof.h(qr[target])\n",
    "    rtof.t(qr[target])\n",
    "    rtof.cx(qr[control2],qr[target])\n",
    "    rtof.tdg(qr[target])\n",
    "    rtof.cx(qr[control1],qr[target])\n",
    "    rtof.t(qr[target])\n",
    "    rtof.cx(qr[control2],qr[target])\n",
    "    rtof.tdg(qr[target])\n",
    "    rtof.h(qr[target])\n",
    "    return rtof"
   ]
  },
  {
   "cell_type": "code",
   "execution_count": 7,
   "metadata": {},
   "outputs": [
    {
     "data": {
      "text/plain": [
       "<qiskit._instructionset.InstructionSet at 0x2bad1967cf8>"
      ]
     },
     "execution_count": 7,
     "metadata": {},
     "output_type": "execute_result"
    }
   ],
   "source": [
    "measure_all=qiskit.QuantumCircuit(qr, cr)\n",
    "measure_all.measure(qr,cr)"
   ]
  },
  {
   "cell_type": "code",
   "execution_count": 8,
   "metadata": {},
   "outputs": [],
   "source": [
    "rtof4 = rtof3(C1, C2, A) + ccnot(A, C3, T) + rtof3(C1, C2, A)"
   ]
  },
  {
   "cell_type": "code",
   "execution_count": null,
   "metadata": {
    "collapsed": false
   },
   "outputs": [
    {
     "data": {
      "image/png": "[encoded data removed]",
      "text/plain": [
       "<matplotlib.figure.Figure at 0x2bad1967cc0>"
      ]
     },
     "metadata": {},
     "output_type": "display_data"
    }
   ],
   "source": [
    "drawer(rtof4)"
   ]
  },
  {
   "cell_type": "code",
   "execution_count": 10,
   "metadata": {},
   "outputs": [],
   "source": [
    "def prepare_state(state):\n",
    "    prepare=qiskit.QuantumCircuit(qr, cr)\n",
    "    if(state[0]=='1'):\n",
    "        prepare.x(qr[C1])\n",
    "    if(state[1]=='1'):\n",
    "        prepare.x(qr[C2])\n",
    "    if(state[2]=='1'):\n",
    "        prepare.x(qr[C3])\n",
    "    if(state[3]=='1'):\n",
    "        prepare.x(qr[T])\n",
    "    return(prepare)"
   ]
  },
  {
   "cell_type": "code",
   "execution_count": 11,
   "metadata": {},
   "outputs": [],
   "source": [
    "states = ['{0:04b}'.format(x) for x in range(2**4)]"
   ]
  },
  {
   "cell_type": "code",
   "execution_count": 37,
   "metadata": {},
   "outputs": [],
   "source": [
    "def expected_cccnot(state):\n",
    "    if(state == '1110'):\n",
    "        expected = '1111'\n",
    "    else:\n",
    "        if(state == '1111'):\n",
    "            expected = '1110'\n",
    "        else:\n",
    "            expected = state\n",
    "    \n",
    "    mapped_expected = list('xxxxx')\n",
    "    mapped_expected[C1] = expected[0]\n",
    "    mapped_expected[C2] = expected[1]\n",
    "    mapped_expected[C3] = expected[2]\n",
    "    mapped_expected[T] = expected[3]\n",
    "    mapped_expected[A] = '0'\n",
    "    mapped_expected = list(reversed(mapped_expected))\n",
    "    mapped_expected = \"\".join(mapped_expected)\n",
    "    return(mapped_expected)"
   ]
  },
  {
   "cell_type": "code",
   "execution_count": 34,
   "metadata": {},
   "outputs": [
    {
     "data": {
      "text/plain": [
       "'x1'"
      ]
     },
     "execution_count": 34,
     "metadata": {},
     "output_type": "execute_result"
    }
   ],
   "source": [
    "\"\".join(list(reversed(['1','x'])))"
   ]
  },
  {
   "cell_type": "code",
   "execution_count": 38,
   "metadata": {},
   "outputs": [
    {
     "name": "stdout",
     "output_type": "stream",
     "text": [
      "state: 0000\n",
      "expected outcome: 00000\n",
      "{'counts': {'00000': 1024}}\n",
      "measured state: 00000\n",
      "correct? True\n",
      "\n",
      "\n",
      "state: 0001\n",
      "expected outcome: 00001\n",
      "{'counts': {'00001': 1024}}\n",
      "measured state: 00001\n",
      "correct? True\n",
      "\n",
      "\n",
      "state: 0010\n",
      "expected outcome: 00010\n",
      "{'counts': {'00010': 1024}}\n",
      "measured state: 00010\n",
      "correct? True\n",
      "\n",
      "\n",
      "state: 0011\n",
      "expected outcome: 00011\n",
      "{'counts': {'00011': 1024}}\n",
      "measured state: 00011\n",
      "correct? True\n",
      "\n",
      "\n",
      "state: 0100\n",
      "expected outcome: 10000\n",
      "{'counts': {'10000': 1024}}\n",
      "measured state: 10000\n",
      "correct? True\n",
      "\n",
      "\n",
      "state: 0101\n",
      "expected outcome: 10001\n",
      "{'counts': {'10001': 1024}}\n",
      "measured state: 10001\n",
      "correct? True\n",
      "\n",
      "\n",
      "state: 0110\n",
      "expected outcome: 10010\n",
      "{'counts': {'10010': 1024}}\n",
      "measured state: 10010\n",
      "correct? True\n",
      "\n",
      "\n",
      "state: 0111\n",
      "expected outcome: 10011\n",
      "{'counts': {'10011': 1024}}\n",
      "measured state: 10011\n",
      "correct? True\n",
      "\n",
      "\n",
      "state: 1000\n",
      "expected outcome: 01000\n",
      "{'counts': {'01000': 1024}}\n",
      "measured state: 01000\n",
      "correct? True\n",
      "\n",
      "\n",
      "state: 1001\n",
      "expected outcome: 01001\n",
      "{'counts': {'01001': 1024}}\n",
      "measured state: 01001\n",
      "correct? True\n",
      "\n",
      "\n",
      "state: 1010\n",
      "expected outcome: 01010\n",
      "{'counts': {'01010': 1024}}\n",
      "measured state: 01010\n",
      "correct? True\n",
      "\n",
      "\n",
      "state: 1011\n",
      "expected outcome: 01011\n",
      "{'counts': {'01011': 1024}}\n",
      "measured state: 01011\n",
      "correct? True\n",
      "\n",
      "\n",
      "state: 1100\n",
      "expected outcome: 11000\n",
      "{'counts': {'11000': 1024}}\n",
      "measured state: 11000\n",
      "correct? True\n",
      "\n",
      "\n",
      "state: 1101\n",
      "expected outcome: 11001\n",
      "{'counts': {'11001': 1024}}\n",
      "measured state: 11001\n",
      "correct? True\n",
      "\n",
      "\n",
      "state: 1110\n",
      "expected outcome: 11011\n",
      "{'counts': {'11011': 1024}}\n",
      "measured state: 11011\n",
      "correct? True\n",
      "\n",
      "\n",
      "state: 1111\n",
      "expected outcome: 11010\n",
      "{'counts': {'11010': 1024}}\n",
      "measured state: 11010\n",
      "correct? True\n",
      "\n",
      "\n"
     ]
    }
   ],
   "source": [
    "#CHECK\n",
    "import warnings\n",
    "warnings.filterwarnings('ignore')\n",
    "for state in states:\n",
    "    print('state: '+state)\n",
    "    print('expected outcome: '+expected_cccnot(state))\n",
    "    circuit=prepare_state(state)+rtof4+measure_all\n",
    "    result = execute_circuits(circuit, 'qasm_simulator').result().get_data()\n",
    "    print(result)\n",
    "    result = list(result['counts'])[0]\n",
    "    print('measured state: '+ result)\n",
    "    print('correct? '+str(result==expected_cccnot(state)))\n",
    "    print('\\n')"
   ]
  },
  {
   "cell_type": "code",
   "execution_count": 39,
   "metadata": {},
   "outputs": [],
   "source": [
    "circuits = []\n",
    "for state in states:\n",
    "    circuit=prepare_state(state)+rtof4+measure_all\n",
    "    circuits.append(circuit)"
   ]
  },
  {
   "cell_type": "code",
   "execution_count": null,
   "metadata": {},
   "outputs": [
    {
     "name": "stdout",
     "output_type": "stream",
     "text": [
      "Iteration number:  0\n",
      "Getting available backends...\n",
      "Executing quantum program on ibmqx4.\n",
      "Program sent for execution to  ibmqx4 .\n",
      "Iteration number:  1\n",
      "Getting available backends...\n"
     ]
    }
   ],
   "source": [
    "run_main_loop(circuits)\n",
    "#started 27.11.2018 21:13"
   ]
  }
 ],
 "metadata": {
  "kernelspec": {
   "display_name": "Python 3",
   "language": "python",
   "name": "python3"
  },
  "language_info": {
   "codemirror_mode": {
    "name": "ipython",
    "version": 3
   },
   "file_extension": ".py",
   "mimetype": "text/x-python",
   "name": "python",
   "nbconvert_exporter": "python",
   "pygments_lexer": "ipython3",
   "version": "3.6.4"
  }
 },
 "nbformat": 4,
 "nbformat_minor": 2
}
