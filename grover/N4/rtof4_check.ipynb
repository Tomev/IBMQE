{
 "cells": [
  {
   "cell_type": "code",
   "execution_count": 1,
   "metadata": {},
   "outputs": [],
   "source": [
    "import qiskit\n",
    "import sys\n",
    "sys.path.append('../..')\n",
    "from methods import execute_circuits\n",
    "from qiskit.tools.visualization import matplotlib_circuit_drawer as drawer\n",
    "import warnings"
   ]
  },
  {
   "cell_type": "code",
   "execution_count": 2,
   "metadata": {},
   "outputs": [],
   "source": [
    "qr = qiskit.QuantumRegister(5)\n",
    "cr = qiskit.ClassicalRegister(5)\n",
    "#2,3,4 - control, 1 - target, 0 - ancillae"
   ]
  },
  {
   "cell_type": "code",
   "execution_count": 3,
   "metadata": {},
   "outputs": [],
   "source": [
    "def ccnot(control1, control2, target):\n",
    "    circuit = qiskit.QuantumCircuit(qr, cr)\n",
    "    circuit.ccx(qr[control1], qr[control2], qr[target])\n",
    "    return(circuit)"
   ]
  },
  {
   "cell_type": "code",
   "execution_count": 4,
   "metadata": {},
   "outputs": [],
   "source": [
    "def rtof3(control1,control2,target):\n",
    "    rtof=qiskit.QuantumCircuit(qr, cr)\n",
    "    rtof.h(qr[target])\n",
    "    rtof.t(qr[target])\n",
    "    rtof.cx(qr[control2],qr[target])\n",
    "    rtof.tdg(qr[target])\n",
    "    rtof.cx(qr[control1],qr[target])\n",
    "    rtof.t(qr[target])\n",
    "    rtof.cx(qr[control2],qr[target])\n",
    "    rtof.tdg(qr[target])\n",
    "    rtof.h(qr[target])\n",
    "    return(rtof)"
   ]
  },
  {
   "cell_type": "code",
   "execution_count": 5,
   "metadata": {},
   "outputs": [
    {
     "data": {
      "text/plain": [
       "<qiskit._instructionset.InstructionSet at 0x1b84a783e80>"
      ]
     },
     "execution_count": 5,
     "metadata": {},
     "output_type": "execute_result"
    }
   ],
   "source": [
    "measure_all=qiskit.QuantumCircuit(qr, cr)\n",
    "measure_all.measure(qr,cr)"
   ]
  },
  {
   "cell_type": "code",
   "execution_count": 14,
   "metadata": {},
   "outputs": [],
   "source": [
    "rtof4=rtof3(2,3,0)+ccnot(0,4,1)+rtof3(2,3,0)"
   ]
  },
  {
   "cell_type": "code",
   "execution_count": 15,
   "metadata": {},
   "outputs": [
    {
     "data": {
      "image/png": "[encoded data removed]",
      "text/plain": [
       "<matplotlib.figure.Figure at 0x1b84c8a6b70>"
      ]
     },
     "metadata": {},
     "output_type": "display_data"
    }
   ],
   "source": [
    "drawer(rtof4)\n",
    "rtof4 = rtof4+measure_all"
   ]
  },
  {
   "cell_type": "code",
   "execution_count": 8,
   "metadata": {},
   "outputs": [],
   "source": [
    "def prepare_state(state):\n",
    "    prepare=qiskit.QuantumCircuit(qr, cr)\n",
    "    for i in range(4):\n",
    "        if(state[i]=='1'):\n",
    "            prepare.x(qr[4-i])\n",
    "    return(prepare)"
   ]
  },
  {
   "cell_type": "code",
   "execution_count": 9,
   "metadata": {},
   "outputs": [],
   "source": [
    "def expected_cccnot(state):\n",
    "    if(state[:3]=='111'):\n",
    "        return('111'+str(int(not(bool(int(state[3]))))))\n",
    "    return(state)"
   ]
  },
  {
   "cell_type": "code",
   "execution_count": 10,
   "metadata": {},
   "outputs": [],
   "source": [
    "states = ['{0:04b}'.format(x) for x in range(2**4)]"
   ]
  },
  {
   "cell_type": "code",
   "execution_count": 11,
   "metadata": {},
   "outputs": [
    {
     "name": "stdout",
     "output_type": "stream",
     "text": [
      "state: 0000\n",
      "expected outcome: 00000\n",
      "{'counts': {'00000': 1024}}\n",
      "measured state: 00000\n",
      "correct? True\n",
      "\n",
      "\n",
      "state: 0001\n",
      "expected outcome: 00010\n",
      "{'counts': {'00010': 1024}}\n",
      "measured state: 00010\n",
      "correct? True\n",
      "\n",
      "\n",
      "state: 0010\n",
      "expected outcome: 00100\n",
      "{'counts': {'00100': 1024}}\n",
      "measured state: 00100\n",
      "correct? True\n",
      "\n",
      "\n",
      "state: 0011\n",
      "expected outcome: 00110\n",
      "{'counts': {'00110': 1024}}\n",
      "measured state: 00110\n",
      "correct? True\n",
      "\n",
      "\n",
      "state: 0100\n",
      "expected outcome: 01000\n",
      "{'counts': {'01000': 1024}}\n",
      "measured state: 01000\n",
      "correct? True\n",
      "\n",
      "\n",
      "state: 0101\n",
      "expected outcome: 01010\n",
      "{'counts': {'01010': 1024}}\n",
      "measured state: 01010\n",
      "correct? True\n",
      "\n",
      "\n",
      "state: 0110\n",
      "expected outcome: 01100\n",
      "{'counts': {'01100': 1024}}\n",
      "measured state: 01100\n",
      "correct? True\n",
      "\n",
      "\n",
      "state: 0111\n",
      "expected outcome: 01110\n",
      "{'counts': {'01110': 1024}}\n",
      "measured state: 01110\n",
      "correct? True\n",
      "\n",
      "\n",
      "state: 1000\n",
      "expected outcome: 10000\n",
      "{'counts': {'10000': 1024}}\n",
      "measured state: 10000\n",
      "correct? True\n",
      "\n",
      "\n",
      "state: 1001\n",
      "expected outcome: 10010\n",
      "{'counts': {'10010': 1024}}\n",
      "measured state: 10010\n",
      "correct? True\n",
      "\n",
      "\n",
      "state: 1010\n",
      "expected outcome: 10100\n",
      "{'counts': {'10100': 1024}}\n",
      "measured state: 10100\n",
      "correct? True\n",
      "\n",
      "\n",
      "state: 1011\n",
      "expected outcome: 10110\n",
      "{'counts': {'10110': 1024}}\n",
      "measured state: 10110\n",
      "correct? True\n",
      "\n",
      "\n",
      "state: 1100\n",
      "expected outcome: 11000\n",
      "{'counts': {'11000': 1024}}\n",
      "measured state: 11000\n",
      "correct? True\n",
      "\n",
      "\n",
      "state: 1101\n",
      "expected outcome: 11010\n",
      "{'counts': {'11010': 1024}}\n",
      "measured state: 11010\n",
      "correct? True\n",
      "\n",
      "\n",
      "state: 1110\n",
      "expected outcome: 11110\n",
      "{'counts': {'11110': 1024}}\n",
      "measured state: 11110\n",
      "correct? True\n",
      "\n",
      "\n",
      "state: 1111\n",
      "expected outcome: 11100\n",
      "{'counts': {'11100': 1024}}\n",
      "measured state: 11100\n",
      "correct? True\n",
      "\n",
      "\n"
     ]
    }
   ],
   "source": [
    "warnings.filterwarnings('ignore')\n",
    "for state in states:\n",
    "    print('state: '+state)\n",
    "    print('expected outcome: '+expected_cccnot(state)+'0')\n",
    "    circuit=prepare_state(state)+rtof4+measure_all\n",
    "    result = execute_circuits(circuit, 'qasm_simulator').result().get_data()\n",
    "    print(result)\n",
    "    result = list(result['counts'])[0]\n",
    "    print('measured state: '+ result)\n",
    "    print('correct? '+str(result==expected_cccnot(state)+'0'))\n",
    "    print('\\n')"
   ]
  }
 ],
 "metadata": {
  "kernelspec": {
   "display_name": "Python 3",
   "language": "python",
   "name": "python3"
  },
  "language_info": {
   "codemirror_mode": {
    "name": "ipython",
    "version": 3
   },
   "file_extension": ".py",
   "mimetype": "text/x-python",
   "name": "python",
   "nbconvert_exporter": "python",
   "pygments_lexer": "ipython3",
   "version": "3.6.4"
  }
 },
 "nbformat": 4,
 "nbformat_minor": 2
}
