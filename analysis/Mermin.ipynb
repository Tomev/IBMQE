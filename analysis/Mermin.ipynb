{
 "cells": [
  {
   "cell_type": "code",
   "execution_count": 1,
   "metadata": {},
   "outputs": [],
   "source": [
    "import numpy as np\n",
    "import pandas as pd"
   ]
  },
  {
   "cell_type": "code",
   "execution_count": 2,
   "metadata": {},
   "outputs": [
    {
     "data": {
      "text/html": [
       "<div>\n",
       "<style scoped>\n",
       "    .dataframe tbody tr th:only-of-type {\n",
       "        vertical-align: middle;\n",
       "    }\n",
       "\n",
       "    .dataframe tbody tr th {\n",
       "        vertical-align: top;\n",
       "    }\n",
       "\n",
       "    .dataframe thead th {\n",
       "        text-align: right;\n",
       "    }\n",
       "</style>\n",
       "<table border=\"1\" class=\"dataframe\">\n",
       "  <thead>\n",
       "    <tr style=\"text-align: right;\">\n",
       "      <th></th>\n",
       "      <th>backend_name</th>\n",
       "      <th>date</th>\n",
       "      <th>results</th>\n",
       "    </tr>\n",
       "  </thead>\n",
       "  <tbody>\n",
       "    <tr>\n",
       "      <th>0</th>\n",
       "      <td>ibmqx5</td>\n",
       "      <td>2018-07-06T05:47:54.506Z</td>\n",
       "      <td>{'0000000000000000': 244, '0000000000000001': ...</td>\n",
       "    </tr>\n",
       "    <tr>\n",
       "      <th>1</th>\n",
       "      <td>ibmqx5</td>\n",
       "      <td>2018-07-06T05:47:54.630Z</td>\n",
       "      <td>{'0000000000000000': 90, '0000000000000001': 2...</td>\n",
       "    </tr>\n",
       "    <tr>\n",
       "      <th>2</th>\n",
       "      <td>ibmqx5</td>\n",
       "      <td>2018-07-06T05:47:54.777Z</td>\n",
       "      <td>{'0000000000000000': 109, '0000000000000001': ...</td>\n",
       "    </tr>\n",
       "    <tr>\n",
       "      <th>3</th>\n",
       "      <td>ibmqx5</td>\n",
       "      <td>2018-07-06T05:47:54.917Z</td>\n",
       "      <td>{'0000000000000000': 79, '0000000000000001': 2...</td>\n",
       "    </tr>\n",
       "    <tr>\n",
       "      <th>4</th>\n",
       "      <td>ibmqx5</td>\n",
       "      <td>2018-07-06T05:47:29.977Z</td>\n",
       "      <td>{'0000000000000000': 254, '0000000000000001': ...</td>\n",
       "    </tr>\n",
       "  </tbody>\n",
       "</table>\n",
       "</div>"
      ],
      "text/plain": [
       "  backend_name                      date  \\\n",
       "0       ibmqx5  2018-07-06T05:47:54.506Z   \n",
       "1       ibmqx5  2018-07-06T05:47:54.630Z   \n",
       "2       ibmqx5  2018-07-06T05:47:54.777Z   \n",
       "3       ibmqx5  2018-07-06T05:47:54.917Z   \n",
       "4       ibmqx5  2018-07-06T05:47:29.977Z   \n",
       "\n",
       "                                             results  \n",
       "0  {'0000000000000000': 244, '0000000000000001': ...  \n",
       "1  {'0000000000000000': 90, '0000000000000001': 2...  \n",
       "2  {'0000000000000000': 109, '0000000000000001': ...  \n",
       "3  {'0000000000000000': 79, '0000000000000001': 2...  \n",
       "4  {'0000000000000000': 254, '0000000000000001': ...  "
      ]
     },
     "execution_count": 2,
     "metadata": {},
     "output_type": "execute_result"
    }
   ],
   "source": [
    "data=pd.read_csv('data_mermin_2018-07-06.csv',sep=';')\n",
    "data.head()"
   ]
  },
  {
   "cell_type": "code",
   "execution_count": 3,
   "metadata": {},
   "outputs": [],
   "source": [
    "#filter only mermin jobs\n",
    "data=data.query('date>\"2018-07-06\"')"
   ]
  },
  {
   "cell_type": "code",
   "execution_count": 4,
   "metadata": {},
   "outputs": [],
   "source": [
    "data['obs']=np.tile(['XXX', 'YYX', 'YXY', 'XYY'],int(data.shape[0]/4))\n",
    "data['index']=np.flip(np.repeat(range(int(data.shape[0]/4)),4),0)\n",
    "data=data.rename(columns={'backend_name':'backend'})"
   ]
  },
  {
   "cell_type": "code",
   "execution_count": 5,
   "metadata": {},
   "outputs": [],
   "source": [
    "results=data.results.map(eval).apply(pd.Series)\n",
    "results=results.fillna(0)"
   ]
  },
  {
   "cell_type": "code",
   "execution_count": 6,
   "metadata": {},
   "outputs": [],
   "source": [
    "data['X000']=results['0000000000000000']+results['00000']\n",
    "data['X001']=results['0000000000000001']+results['00001']\n",
    "data['X010']=results['0000000000000010']+results['00010']\n",
    "data['X011']=results['0000000000000011']+results['00011']\n",
    "data['X100']=results['1000000000000000']+results['00100']\n",
    "data['X101']=results['1000000000000001']+results['00101']\n",
    "data['X110']=results['1000000000000010']+results['00110']\n",
    "data['X111']=results['1000000000000011']+results['00111']"
   ]
  },
  {
   "cell_type": "code",
   "execution_count": 7,
   "metadata": {},
   "outputs": [],
   "source": [
    "data['measurement']=(data.X000+data.X011+data.X101+data.X110-data.X001-data.X010-data.X100-data.X111)/1024"
   ]
  },
  {
   "cell_type": "code",
   "execution_count": 8,
   "metadata": {},
   "outputs": [
    {
     "data": {
      "text/html": [
       "<div>\n",
       "<style scoped>\n",
       "    .dataframe tbody tr th:only-of-type {\n",
       "        vertical-align: middle;\n",
       "    }\n",
       "\n",
       "    .dataframe tbody tr th {\n",
       "        vertical-align: top;\n",
       "    }\n",
       "\n",
       "    .dataframe thead th {\n",
       "        text-align: right;\n",
       "    }\n",
       "</style>\n",
       "<table border=\"1\" class=\"dataframe\">\n",
       "  <thead>\n",
       "    <tr style=\"text-align: right;\">\n",
       "      <th></th>\n",
       "      <th>backend</th>\n",
       "      <th>date</th>\n",
       "      <th>obs</th>\n",
       "      <th>index</th>\n",
       "      <th>X000</th>\n",
       "      <th>X001</th>\n",
       "      <th>X010</th>\n",
       "      <th>X011</th>\n",
       "      <th>X100</th>\n",
       "      <th>X101</th>\n",
       "      <th>X110</th>\n",
       "      <th>X111</th>\n",
       "      <th>measurement</th>\n",
       "    </tr>\n",
       "  </thead>\n",
       "  <tbody>\n",
       "    <tr>\n",
       "      <th>0</th>\n",
       "      <td>ibmqx5</td>\n",
       "      <td>2018-07-06T05:47:54.506Z</td>\n",
       "      <td>XXX</td>\n",
       "      <td>577</td>\n",
       "      <td>244.0</td>\n",
       "      <td>66.0</td>\n",
       "      <td>66.0</td>\n",
       "      <td>175.0</td>\n",
       "      <td>75.0</td>\n",
       "      <td>181.0</td>\n",
       "      <td>205.0</td>\n",
       "      <td>12.0</td>\n",
       "      <td>0.572266</td>\n",
       "    </tr>\n",
       "    <tr>\n",
       "      <th>1</th>\n",
       "      <td>ibmqx5</td>\n",
       "      <td>2018-07-06T05:47:54.630Z</td>\n",
       "      <td>YYX</td>\n",
       "      <td>577</td>\n",
       "      <td>90.0</td>\n",
       "      <td>226.0</td>\n",
       "      <td>192.0</td>\n",
       "      <td>33.0</td>\n",
       "      <td>212.0</td>\n",
       "      <td>49.0</td>\n",
       "      <td>61.0</td>\n",
       "      <td>161.0</td>\n",
       "      <td>-0.544922</td>\n",
       "    </tr>\n",
       "    <tr>\n",
       "      <th>2</th>\n",
       "      <td>ibmqx5</td>\n",
       "      <td>2018-07-06T05:47:54.777Z</td>\n",
       "      <td>YXY</td>\n",
       "      <td>577</td>\n",
       "      <td>109.0</td>\n",
       "      <td>208.0</td>\n",
       "      <td>212.0</td>\n",
       "      <td>33.0</td>\n",
       "      <td>198.0</td>\n",
       "      <td>62.0</td>\n",
       "      <td>39.0</td>\n",
       "      <td>163.0</td>\n",
       "      <td>-0.525391</td>\n",
       "    </tr>\n",
       "    <tr>\n",
       "      <th>3</th>\n",
       "      <td>ibmqx5</td>\n",
       "      <td>2018-07-06T05:47:54.917Z</td>\n",
       "      <td>XYY</td>\n",
       "      <td>577</td>\n",
       "      <td>79.0</td>\n",
       "      <td>200.0</td>\n",
       "      <td>208.0</td>\n",
       "      <td>47.0</td>\n",
       "      <td>211.0</td>\n",
       "      <td>49.0</td>\n",
       "      <td>39.0</td>\n",
       "      <td>191.0</td>\n",
       "      <td>-0.582031</td>\n",
       "    </tr>\n",
       "    <tr>\n",
       "      <th>4</th>\n",
       "      <td>ibmqx5</td>\n",
       "      <td>2018-07-06T05:47:29.977Z</td>\n",
       "      <td>XXX</td>\n",
       "      <td>576</td>\n",
       "      <td>254.0</td>\n",
       "      <td>79.0</td>\n",
       "      <td>48.0</td>\n",
       "      <td>165.0</td>\n",
       "      <td>85.0</td>\n",
       "      <td>203.0</td>\n",
       "      <td>177.0</td>\n",
       "      <td>13.0</td>\n",
       "      <td>0.560547</td>\n",
       "    </tr>\n",
       "  </tbody>\n",
       "</table>\n",
       "</div>"
      ],
      "text/plain": [
       "  backend                      date  obs  index   X000   X001   X010   X011  \\\n",
       "0  ibmqx5  2018-07-06T05:47:54.506Z  XXX    577  244.0   66.0   66.0  175.0   \n",
       "1  ibmqx5  2018-07-06T05:47:54.630Z  YYX    577   90.0  226.0  192.0   33.0   \n",
       "2  ibmqx5  2018-07-06T05:47:54.777Z  YXY    577  109.0  208.0  212.0   33.0   \n",
       "3  ibmqx5  2018-07-06T05:47:54.917Z  XYY    577   79.0  200.0  208.0   47.0   \n",
       "4  ibmqx5  2018-07-06T05:47:29.977Z  XXX    576  254.0   79.0   48.0  165.0   \n",
       "\n",
       "    X100   X101   X110   X111  measurement  \n",
       "0   75.0  181.0  205.0   12.0     0.572266  \n",
       "1  212.0   49.0   61.0  161.0    -0.544922  \n",
       "2  198.0   62.0   39.0  163.0    -0.525391  \n",
       "3  211.0   49.0   39.0  191.0    -0.582031  \n",
       "4   85.0  203.0  177.0   13.0     0.560547  "
      ]
     },
     "execution_count": 8,
     "metadata": {},
     "output_type": "execute_result"
    }
   ],
   "source": [
    "data=data.drop('results',1)\n",
    "data.head()"
   ]
  },
  {
   "cell_type": "code",
   "execution_count": 9,
   "metadata": {},
   "outputs": [],
   "source": [
    "mermin_obs={'XXX':-1, 'YYX':1, 'YXY':1, 'XYY':1}"
   ]
  },
  {
   "cell_type": "code",
   "execution_count": 10,
   "metadata": {
    "scrolled": true
   },
   "outputs": [],
   "source": [
    "data['mermin']=data.obs.map(mermin_obs)*data.measurement"
   ]
  },
  {
   "cell_type": "code",
   "execution_count": 11,
   "metadata": {},
   "outputs": [
    {
     "data": {
      "text/html": [
       "<div>\n",
       "<style scoped>\n",
       "    .dataframe tbody tr th:only-of-type {\n",
       "        vertical-align: middle;\n",
       "    }\n",
       "\n",
       "    .dataframe tbody tr th {\n",
       "        vertical-align: top;\n",
       "    }\n",
       "\n",
       "    .dataframe thead th {\n",
       "        text-align: right;\n",
       "    }\n",
       "</style>\n",
       "<table border=\"1\" class=\"dataframe\">\n",
       "  <thead>\n",
       "    <tr style=\"text-align: right;\">\n",
       "      <th></th>\n",
       "      <th>index</th>\n",
       "      <th>backend</th>\n",
       "      <th>mermin</th>\n",
       "      <th>date</th>\n",
       "    </tr>\n",
       "  </thead>\n",
       "  <tbody>\n",
       "    <tr>\n",
       "      <th>0</th>\n",
       "      <td>0</td>\n",
       "      <td>ibmqx5</td>\n",
       "      <td>-0.080078</td>\n",
       "      <td>2018-07-06T00:01:23.899Z</td>\n",
       "    </tr>\n",
       "    <tr>\n",
       "      <th>1</th>\n",
       "      <td>1</td>\n",
       "      <td>ibmqx5</td>\n",
       "      <td>0.017578</td>\n",
       "      <td>2018-07-06T00:01:23.515Z</td>\n",
       "    </tr>\n",
       "    <tr>\n",
       "      <th>2</th>\n",
       "      <td>2</td>\n",
       "      <td>ibmqx5</td>\n",
       "      <td>0.292969</td>\n",
       "      <td>2018-07-06T00:01:23.075Z</td>\n",
       "    </tr>\n",
       "    <tr>\n",
       "      <th>3</th>\n",
       "      <td>3</td>\n",
       "      <td>ibmqx5</td>\n",
       "      <td>0.322266</td>\n",
       "      <td>2018-07-06T00:01:22.477Z</td>\n",
       "    </tr>\n",
       "    <tr>\n",
       "      <th>4</th>\n",
       "      <td>4</td>\n",
       "      <td>ibmqx5</td>\n",
       "      <td>0.199219</td>\n",
       "      <td>2018-07-06T00:01:21.937Z</td>\n",
       "    </tr>\n",
       "  </tbody>\n",
       "</table>\n",
       "</div>"
      ],
      "text/plain": [
       "   index backend    mermin                      date\n",
       "0      0  ibmqx5 -0.080078  2018-07-06T00:01:23.899Z\n",
       "1      1  ibmqx5  0.017578  2018-07-06T00:01:23.515Z\n",
       "2      2  ibmqx5  0.292969  2018-07-06T00:01:23.075Z\n",
       "3      3  ibmqx5  0.322266  2018-07-06T00:01:22.477Z\n",
       "4      4  ibmqx5  0.199219  2018-07-06T00:01:21.937Z"
      ]
     },
     "execution_count": 11,
     "metadata": {},
     "output_type": "execute_result"
    }
   ],
   "source": [
    "agg_data=data.groupby(['index','backend']).agg({'mermin':'sum','date':'max'})\n",
    "agg_data=agg_data.reset_index()\n",
    "agg_data.head()"
   ]
  },
  {
   "cell_type": "code",
   "execution_count": 12,
   "metadata": {},
   "outputs": [
    {
     "name": "stderr",
     "output_type": "stream",
     "text": [
      "C:\\Users\\Alicja\\Anaconda3\\lib\\site-packages\\ggplot\\utils.py:81: FutureWarning: pandas.tslib is deprecated and will be removed in a future version.\n",
      "You can access Timestamp as pandas.Timestamp\n",
      "  pd.tslib.Timestamp,\n",
      "C:\\Users\\Alicja\\Anaconda3\\lib\\site-packages\\ggplot\\stats\\smoothers.py:4: FutureWarning: The pandas.lib module is deprecated and will be removed in a future version. These are private functions and can be accessed from pandas._libs.lib instead\n",
      "  from pandas.lib import Timestamp\n"
     ]
    }
   ],
   "source": [
    "from ggplot import *"
   ]
  },
  {
   "cell_type": "code",
   "execution_count": 13,
   "metadata": {},
   "outputs": [
    {
     "data": {
      "image/png": "[encoded data removed]",
      "text/plain": [
       "<matplotlib.figure.Figure at 0x21560bbfe10>"
      ]
     },
     "metadata": {},
     "output_type": "display_data"
    },
    {
     "data": {
      "text/plain": [
       "<ggplot: (143177531291)>"
      ]
     },
     "execution_count": 13,
     "metadata": {},
     "output_type": "execute_result"
    }
   ],
   "source": [
    "ggplot(aes(x='mermin'),data=agg_data)+geom_histogram(20)+facet_wrap('backend')"
   ]
  },
  {
   "cell_type": "code",
   "execution_count": 14,
   "metadata": {},
   "outputs": [
    {
     "data": {
      "image/png": "[encoded data removed]",
      "text/plain": [
       "<matplotlib.figure.Figure at 0x21560d2ec18>"
      ]
     },
     "metadata": {},
     "output_type": "display_data"
    },
    {
     "data": {
      "text/plain": [
       "<ggplot: (-9223371893677027675)>"
      ]
     },
     "execution_count": 14,
     "metadata": {},
     "output_type": "execute_result"
    }
   ],
   "source": [
    "ggplot(aes(x='index',y='mermin',color='backend'),data=agg_data)+geom_point()"
   ]
  },
  {
   "cell_type": "code",
   "execution_count": 17,
   "metadata": {},
   "outputs": [
    {
     "data": {
      "text/html": [
       "<div>\n",
       "<style scoped>\n",
       "    .dataframe tbody tr th:only-of-type {\n",
       "        vertical-align: middle;\n",
       "    }\n",
       "\n",
       "    .dataframe tbody tr th {\n",
       "        vertical-align: top;\n",
       "    }\n",
       "\n",
       "    .dataframe thead th {\n",
       "        text-align: right;\n",
       "    }\n",
       "</style>\n",
       "<table border=\"1\" class=\"dataframe\">\n",
       "  <thead>\n",
       "    <tr style=\"text-align: right;\">\n",
       "      <th></th>\n",
       "      <th>backend</th>\n",
       "      <th>realism_violated</th>\n",
       "      <th>number_of_experiments</th>\n",
       "      <th>percent</th>\n",
       "    </tr>\n",
       "  </thead>\n",
       "  <tbody>\n",
       "    <tr>\n",
       "      <th>0</th>\n",
       "      <td>ibmqx4</td>\n",
       "      <td>176</td>\n",
       "      <td>199</td>\n",
       "      <td>0.884422</td>\n",
       "    </tr>\n",
       "    <tr>\n",
       "      <th>1</th>\n",
       "      <td>ibmqx5</td>\n",
       "      <td>274</td>\n",
       "      <td>379</td>\n",
       "      <td>0.722955</td>\n",
       "    </tr>\n",
       "  </tbody>\n",
       "</table>\n",
       "</div>"
      ],
      "text/plain": [
       "  backend  realism_violated  number_of_experiments   percent\n",
       "0  ibmqx4               176                    199  0.884422\n",
       "1  ibmqx5               274                    379  0.722955"
      ]
     },
     "execution_count": 17,
     "metadata": {},
     "output_type": "execute_result"
    }
   ],
   "source": [
    "summary=agg_data.assign(\n",
    "    realism_violated=agg_data.mermin<-2,number_of_experiments=1\n",
    ").groupby('backend').agg(\n",
    "    {'realism_violated':'sum','number_of_experiments':'sum'}\n",
    ").reset_index()\n",
    "summary['realism_violated']=summary.realism_violated.astype('int')\n",
    "summary['percent']=summary.realism_violated/summary.number_of_experiments\n",
    "summary"
   ]
  }
 ],
 "metadata": {
  "kernelspec": {
   "display_name": "Python 3",
   "language": "python",
   "name": "python3"
  },
  "language_info": {
   "codemirror_mode": {
    "name": "ipython",
    "version": 3
   },
   "file_extension": ".py",
   "mimetype": "text/x-python",
   "name": "python",
   "nbconvert_exporter": "python",
   "pygments_lexer": "ipython3",
   "version": "3.6.4"
  }
 },
 "nbformat": 4,
 "nbformat_minor": 2
}
